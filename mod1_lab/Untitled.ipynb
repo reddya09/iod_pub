{
 "cells": [
  {
   "cell_type": "markdown",
   "id": "f2cdc504",
   "metadata": {},
   "source": [
    "# Best Fit Line"
   ]
  },
  {
   "cell_type": "code",
   "execution_count": 3,
   "id": "e8f705ea",
   "metadata": {},
   "outputs": [],
   "source": [
    "# Importing the necessary libraries\n",
    "from matplotlib import pyplot as plt\n",
    "import numpy as np\n",
    "\n",
    "# Preparing the data to be computed and plotted\n",
    "dt = np.array([\n",
    "          [0.05, 0.11],\n",
    "          [0.13, 0.14],\n",
    "          [0.19, 0.17],\n",
    "          [0.24, 0.21],\n",
    "          [0.27, 0.24],\n",
    "          [0.29, 0.32],\n",
    "          [0.32, 0.30],\n",
    "          [0.36, 0.39],\n",
    "          [0.37, 0.42],\n",
    "          [0.40, 0.40],\n",
    "          [0.07, 0.09],\n",
    "          [0.02, 0.04],\n",
    "          [0.15, 0.19],\n",
    "          [0.39, 0.32],\n",
    "          [0.43, 0.48],\n",
    "          [0.44, 0.41],\n",
    "          [0.47, 0.49],\n",
    "          [0.50, 0.57],\n",
    "          [0.53, 0.59],\n",
    "          [0.57, 0.51],\n",
    "          [0.58, 0.60]\n",
    "])\n"
   ]
  },
  {
   "cell_type": "markdown",
   "id": "e47d2be3",
   "metadata": {},
   "source": []
  },
  {
   "cell_type": "code",
   "execution_count": null,
   "id": "52f14084",
   "metadata": {},
   "outputs": [],
   "source": []
  },
  {
   "cell_type": "markdown",
   "id": "d93c3c63",
   "metadata": {},
   "source": [
    "### Best Fit Line using predefined Linear Regression model"
   ]
  },
  {
   "cell_type": "code",
   "execution_count": null,
   "id": "6616ee9a",
   "metadata": {},
   "outputs": [],
   "source": [
    "\n",
    "# Importing the sklearn's linear_model,\n",
    "# a pre-defined linear regression model\n",
    "from sklearn.linear_model import LinearRegression\n",
    "\n",
    "# Preparing X and y from the given data\n",
    "X = dt[:, 0].reshape(len(dt), 1)\n",
    "y = dt[:, 1].reshape(len(dt), 1)\n",
    "\n",
    "# Creatoing a linear regression model and fitting the data to the model\n",
    "model = LinearRegression()\n",
    "model.fit(X, y)\n",
    "\n",
    "# Now, predicting the y values according to the model\n",
    "y_line = model.predict(X)\n",
    "\n",
    "# Printing thr coffecient/parameter of the resulted line\n",
    "print(f'The parameters of the line: {model.coef_}')\n",
    "\n",
    "# Plotting the data points and the best fit line\n",
    "plt.scatter(X, y)\n",
    "plt.plot(X, y_line, 'r')\n",
    "plt.title('Best fit line using linear regression model from sklearn')\n",
    "plt.xlabel('x-axis')\n",
    "plt.ylabel('y-axis')\n",
    "\n",
    "plt.show()"
   ]
  },
  {
   "cell_type": "code",
   "execution_count": null,
   "id": "fad61883",
   "metadata": {},
   "outputs": [],
   "source": []
  }
 ],
 "metadata": {
  "kernelspec": {
   "display_name": "Python 3 (ipykernel)",
   "language": "python",
   "name": "python3"
  },
  "language_info": {
   "codemirror_mode": {
    "name": "ipython",
    "version": 3
   },
   "file_extension": ".py",
   "mimetype": "text/x-python",
   "name": "python",
   "nbconvert_exporter": "python",
   "pygments_lexer": "ipython3",
   "version": "3.11.4"
  }
 },
 "nbformat": 4,
 "nbformat_minor": 5
}

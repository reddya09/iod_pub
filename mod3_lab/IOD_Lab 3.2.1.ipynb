{
 "cells": [
  {
   "cell_type": "markdown",
   "metadata": {
    "id": "fneIB8BIGtiY"
   },
   "source": [
    "<div>\n",
    "<img src=https://www.institutedata.com/wp-content/uploads/2019/10/iod_h_tp_primary_c.svg width=\"300\">\n",
    "</div>"
   ]
  },
  {
   "cell_type": "markdown",
   "metadata": {
    "id": "rdipUchUGtih"
   },
   "source": [
    "# Lab 3.2.1 \n",
    "# *Querying the International Space Station*"
   ]
  },
  {
   "cell_type": "markdown",
   "metadata": {
    "id": "b2RLpeJNGtil"
   },
   "source": [
    "## The OpenNotify API"
   ]
  },
  {
   "cell_type": "markdown",
   "metadata": {
    "id": "rrunXmMNGtip"
   },
   "source": [
    "The OpenNotify API exposes a few attributes of the International Space Station (ISS) via a simple, authentication-free interface. The simplicity of this API precludes any need for a dedicated Python library. However, as with many APIs, it accepts requests according to HTTP standards and returns responses in JSON format, so the Python libraries request and json will make managing the I/O simpler still."
   ]
  },
  {
   "cell_type": "code",
   "execution_count": 1,
   "metadata": {
    "id": "xz4PaIIjGtis",
    "tags": []
   },
   "outputs": [],
   "source": [
    "import requests\n",
    "import json\n",
    "from datetime import datetime, date, time"
   ]
  },
  {
   "cell_type": "markdown",
   "metadata": {
    "id": "tE2vsQo3Gti0"
   },
   "source": [
    "This request fetches the latest position of the international space station:"
   ]
  },
  {
   "cell_type": "code",
   "execution_count": 2,
   "metadata": {
    "id": "bXBJ6YSPGti3",
    "tags": []
   },
   "outputs": [],
   "source": [
    "response = requests.get(\"http://api.open-notify.org/iss-now.json\")"
   ]
  },
  {
   "cell_type": "markdown",
   "metadata": {
    "id": "wTbnWjPGGti-"
   },
   "source": [
    "Print the status code and text of the response:"
   ]
  },
  {
   "cell_type": "code",
   "execution_count": 5,
   "metadata": {
    "tags": []
   },
   "outputs": [
    {
     "name": "stdout",
     "output_type": "stream",
     "text": [
      "200\n"
     ]
    }
   ],
   "source": [
    "print(response.status_code)"
   ]
  },
  {
   "cell_type": "code",
   "execution_count": 8,
   "metadata": {
    "colab": {
     "base_uri": "https://localhost:8080/"
    },
    "executionInfo": {
     "elapsed": 324,
     "status": "ok",
     "timestamp": 1656486759324,
     "user": {
      "displayName": "Muru Raj",
      "userId": "16263509272652930332"
     },
     "user_tz": -480
    },
    "id": "-WdeRA2iTYNy",
    "outputId": "ce58f787-ddf2-41e3-fa25-169380a569f6",
    "tags": []
   },
   "outputs": [
    {
     "name": "stdout",
     "output_type": "stream",
     "text": [
      "{\"message\": \"success\", \"timestamp\": 1695196001, \"iss_position\": {\"longitude\": \"-66.2572\", \"latitude\": \"-14.8117\"}}\n"
     ]
    }
   ],
   "source": [
    "#ANSWER\n",
    "print(response.text)"
   ]
  },
  {
   "cell_type": "markdown",
   "metadata": {
    "id": "eiziNer-GtjF"
   },
   "source": [
    "We can use another API to request the current position of the ISS and the next few times at which it will be over a certain location. The latitude and longitude of Sydney are (-33.87, 151.21)."
   ]
  },
  {
   "cell_type": "code",
   "execution_count": 9,
   "metadata": {
    "id": "2XZ-ygFkGtjH",
    "tags": []
   },
   "outputs": [],
   "source": [
    "response = requests.get(\"https://api.g7vrd.co.uk/v1/satellite-passes/25544/-33.87/151.21.json?minelevation=0&hours=24\")"
   ]
  },
  {
   "cell_type": "markdown",
   "metadata": {
    "id": "aEl3pwmHGtjN"
   },
   "source": [
    "Print the response header:"
   ]
  },
  {
   "cell_type": "code",
   "execution_count": 10,
   "metadata": {
    "id": "6rsz7gwbGtjP",
    "tags": []
   },
   "outputs": [
    {
     "name": "stdout",
     "output_type": "stream",
     "text": [
      "{'Date': 'Wed, 20 Sep 2023 07:50:20 GMT', 'Server': 'Apache', 'Vary': 'Origin,Access-Control-Request-Method,Access-Control-Request-Headers', 'Access-Control-Allow-Origin': '*', 'X-Content-Type-Options': 'nosniff', 'X-XSS-Protection': '1; mode=block', 'Cache-Control': 'no-cache, no-store, max-age=0, must-revalidate', 'Pragma': 'no-cache', 'Expires': '0', 'X-Frame-Options': 'DENY', 'Content-Type': 'application/json', 'Keep-Alive': 'timeout=5, max=100', 'Connection': 'Keep-Alive', 'Transfer-Encoding': 'chunked'}\n"
     ]
    }
   ],
   "source": [
    "#ANSWER\n",
    "print(response.headers)"
   ]
  },
  {
   "cell_type": "markdown",
   "metadata": {
    "id": "W6tqlzySGtjR"
   },
   "source": [
    "Print the content of the response (the data that the server returned):"
   ]
  },
  {
   "cell_type": "code",
   "execution_count": 12,
   "metadata": {
    "id": "HbxepzDZGtjS",
    "tags": []
   },
   "outputs": [
    {
     "name": "stdout",
     "output_type": "stream",
     "text": [
      "b'{\"api_status\":\"ALPHA\",\"request_timestamp\":\"2023-09-20T07:50:20.388371705Z\",\"norad_id\":25544,\"satellite_name\":\"ISS\",\"tle_last_retrieved\":\"2023-09-19T14:06:21.787220224Z\",\"lat\":-33.87,\"lon\":151.21,\"hours\":24,\"min_elevation\":0,\"query_ms\":19,\"passes\":[{\"start\":\"2023-09-20T17:03:30.369Z\",\"tca\":\"2023-09-20T17:08:00.369Z\",\"end\":\"2023-09-20T17:12:30.369Z\",\"aos_azimuth\":359,\"los_azimuth\":109,\"max_elevation\":11.0},{\"start\":\"2023-09-20T18:38:55.369Z\",\"tca\":\"2023-09-20T18:44:25.369Z\",\"end\":\"2023-09-20T18:49:55.369Z\",\"aos_azimuth\":304,\"los_azimuth\":136,\"max_elevation\":54.0},{\"start\":\"2023-09-20T20:17:25.369Z\",\"tca\":\"2023-09-20T20:21:55.369Z\",\"end\":\"2023-09-20T20:26:10.369Z\",\"aos_azimuth\":255,\"los_azimuth\":151,\"max_elevation\":9.0},{\"start\":\"2023-09-20T21:57:15.369Z\",\"tca\":\"2023-09-20T22:00:15.369Z\",\"end\":\"2023-09-20T22:03:05.369Z\",\"aos_azimuth\":214,\"los_azimuth\":150,\"max_elevation\":3.0},{\"start\":\"2023-09-20T23:34:50.369Z\",\"tca\":\"2023-09-20T23:38:50.369Z\",\"end\":\"2023-09-20T23:42:30.369Z\",\"aos_azimuth\":205,\"los_azimuth\":117,\"max_elevation\":6.0},{\"start\":\"2023-09-21T01:11:05.369Z\",\"tca\":\"2023-09-21T01:16:35.369Z\",\"end\":\"2023-09-21T01:21:40.369Z\",\"aos_azimuth\":217,\"los_azimuth\":69,\"max_elevation\":28.0},{\"start\":\"2023-09-21T02:47:55.369Z\",\"tca\":\"2023-09-21T02:52:55.369Z\",\"end\":\"2023-09-21T02:58:05.369Z\",\"aos_azimuth\":240,\"los_azimuth\":17,\"max_elevation\":22.0},{\"start\":\"2023-09-21T16:16:55.369Z\",\"tca\":\"2023-09-21T16:20:25.369Z\",\"end\":\"2023-09-21T16:23:45.369Z\",\"aos_azimuth\":18,\"los_azimuth\":96,\"max_elevation\":5.0}]}'\n"
     ]
    }
   ],
   "source": [
    "#ANSWER\n",
    "print(response.content)"
   ]
  },
  {
   "cell_type": "markdown",
   "metadata": {
    "id": "N7tHPQzDGtjU"
   },
   "source": [
    "Note that this is a Python byte string:"
   ]
  },
  {
   "cell_type": "code",
   "execution_count": null,
   "metadata": {
    "id": "k8AMo0yWGtjV"
   },
   "outputs": [],
   "source": [
    "print(type(response.content))"
   ]
  },
  {
   "cell_type": "markdown",
   "metadata": {
    "id": "5tvv9ht_GtjX"
   },
   "source": [
    "Print just the \"content-type\" value from the header:"
   ]
  },
  {
   "cell_type": "code",
   "execution_count": 14,
   "metadata": {
    "id": "nxWxxLI7GtjX",
    "tags": []
   },
   "outputs": [
    {
     "name": "stdout",
     "output_type": "stream",
     "text": [
      "<class 'bytes'>\n"
     ]
    }
   ],
   "source": [
    "#ANSWER\n",
    "print(type(response.content))"
   ]
  },
  {
   "cell_type": "code",
   "execution_count": 16,
   "metadata": {
    "tags": []
   },
   "outputs": [
    {
     "name": "stdout",
     "output_type": "stream",
     "text": [
      "application/json\n"
     ]
    }
   ],
   "source": [
    "print(response.headers[\"content-type\"])"
   ]
  },
  {
   "cell_type": "markdown",
   "metadata": {
    "id": "7lPlgn_hGtjZ"
   },
   "source": [
    "JSON was designed to be easy for computers to read, not for people. The `requests` library can decode the JSON byte string:"
   ]
  },
  {
   "cell_type": "code",
   "execution_count": 17,
   "metadata": {
    "id": "nGVtgDaqGtja",
    "tags": []
   },
   "outputs": [
    {
     "name": "stdout",
     "output_type": "stream",
     "text": [
      "{'api_status': 'ALPHA', 'request_timestamp': '2023-09-20T07:50:20.388371705Z', 'norad_id': 25544, 'satellite_name': 'ISS', 'tle_last_retrieved': '2023-09-19T14:06:21.787220224Z', 'lat': -33.87, 'lon': 151.21, 'hours': 24, 'min_elevation': 0, 'query_ms': 19, 'passes': [{'start': '2023-09-20T17:03:30.369Z', 'tca': '2023-09-20T17:08:00.369Z', 'end': '2023-09-20T17:12:30.369Z', 'aos_azimuth': 359, 'los_azimuth': 109, 'max_elevation': 11.0}, {'start': '2023-09-20T18:38:55.369Z', 'tca': '2023-09-20T18:44:25.369Z', 'end': '2023-09-20T18:49:55.369Z', 'aos_azimuth': 304, 'los_azimuth': 136, 'max_elevation': 54.0}, {'start': '2023-09-20T20:17:25.369Z', 'tca': '2023-09-20T20:21:55.369Z', 'end': '2023-09-20T20:26:10.369Z', 'aos_azimuth': 255, 'los_azimuth': 151, 'max_elevation': 9.0}, {'start': '2023-09-20T21:57:15.369Z', 'tca': '2023-09-20T22:00:15.369Z', 'end': '2023-09-20T22:03:05.369Z', 'aos_azimuth': 214, 'los_azimuth': 150, 'max_elevation': 3.0}, {'start': '2023-09-20T23:34:50.369Z', 'tca': '2023-09-20T23:38:50.369Z', 'end': '2023-09-20T23:42:30.369Z', 'aos_azimuth': 205, 'los_azimuth': 117, 'max_elevation': 6.0}, {'start': '2023-09-21T01:11:05.369Z', 'tca': '2023-09-21T01:16:35.369Z', 'end': '2023-09-21T01:21:40.369Z', 'aos_azimuth': 217, 'los_azimuth': 69, 'max_elevation': 28.0}, {'start': '2023-09-21T02:47:55.369Z', 'tca': '2023-09-21T02:52:55.369Z', 'end': '2023-09-21T02:58:05.369Z', 'aos_azimuth': 240, 'los_azimuth': 17, 'max_elevation': 22.0}, {'start': '2023-09-21T16:16:55.369Z', 'tca': '2023-09-21T16:20:25.369Z', 'end': '2023-09-21T16:23:45.369Z', 'aos_azimuth': 18, 'los_azimuth': 96, 'max_elevation': 5.0}]}\n"
     ]
    }
   ],
   "source": [
    "overheads = response.json()\n",
    "print(overheads)"
   ]
  },
  {
   "cell_type": "markdown",
   "metadata": {
    "id": "l9GOdNK5Gtjc"
   },
   "source": [
    "What kind of object did this give us?"
   ]
  },
  {
   "cell_type": "code",
   "execution_count": 18,
   "metadata": {
    "id": "JBS4nRmSGtjd",
    "tags": []
   },
   "outputs": [
    {
     "name": "stdout",
     "output_type": "stream",
     "text": [
      "<class 'dict'>\n"
     ]
    }
   ],
   "source": [
    "#ANSWER:\n",
    "print(type(overheads))"
   ]
  },
  {
   "cell_type": "markdown",
   "metadata": {
    "id": "2ZYJabXQGtjg"
   },
   "source": [
    "Python dicts are easier to work with, but the data we want is still buried in that data structure, so we have to dig it out. First, extract the `response` value to a separate list:"
   ]
  },
  {
   "cell_type": "code",
   "execution_count": 19,
   "metadata": {
    "id": "0u8LZg4dGtjh",
    "tags": []
   },
   "outputs": [],
   "source": [
    "#ANSWER:\n",
    "passes = overheads['passes']\n"
   ]
  },
  {
   "cell_type": "markdown",
   "metadata": {
    "id": "hMHzLrfoGtjj"
   },
   "source": [
    "Now extract the `start` strings into an array called `srisetimes`:"
   ]
  },
  {
   "cell_type": "code",
   "execution_count": null,
   "metadata": {
    "id": "nXqJ8_F2Gtjj"
   },
   "outputs": [],
   "source": [
    "#ANSWER:\n"
   ]
  },
  {
   "cell_type": "markdown",
   "metadata": {
    "id": "RItuBRt-Gtjl"
   },
   "source": [
    "These are strings. We convert these to an array of Python `datetime` values called `risetimes`:"
   ]
  },
  {
   "cell_type": "code",
   "execution_count": null,
   "metadata": {
    "id": "8rzyAcLTGtjm"
   },
   "outputs": [],
   "source": [
    "risetimes = [datetime.strptime(xpass['start'], \"%Y-%m-%dT%H:%M:%S.%fZ\") for xpass in passes]\n",
    "risetimes"
   ]
  },
  {
   "cell_type": "markdown",
   "metadata": {
    "id": "l1EmKOFqGtjn"
   },
   "source": [
    "Finally, use `risetime.strftime` to print these in a format that people understand:\n",
    "\n",
    "```\n",
    "e.g.\n",
    "18/10/22 07:05\n",
    "18/10/22 08:41\n",
    "18/10/22 10:20\n",
    "18/10/22 12:00\n",
    "18/10/22 01:37\n",
    "18/10/22 03:13\n",
    "```\n",
    "\n"
   ]
  },
  {
   "cell_type": "code",
   "execution_count": null,
   "metadata": {
    "id": "AkBE76VqGtjo"
   },
   "outputs": [],
   "source": [
    "#ANSWER:\n"
   ]
  },
  {
   "cell_type": "markdown",
   "metadata": {
    "id": "iNm6GjX3Gtjq"
   },
   "source": [
    "Finally, here is an endpoint that tells us who is on board:"
   ]
  },
  {
   "cell_type": "code",
   "execution_count": null,
   "metadata": {
    "id": "12yXs_OgGtjs"
   },
   "outputs": [],
   "source": [
    "response = requests.get(\"http://api.open-notify.org/astros.json\")"
   ]
  },
  {
   "cell_type": "markdown",
   "metadata": {
    "id": "0Np4S0aAGtj0"
   },
   "source": [
    "Referring to the methods used above, extract the number of astronauts and their names:"
   ]
  },
  {
   "cell_type": "code",
   "execution_count": null,
   "metadata": {
    "id": "Oqx5L19_Gtj1"
   },
   "outputs": [],
   "source": [
    "#ANSWER:\n"
   ]
  },
  {
   "cell_type": "markdown",
   "metadata": {
    "id": "A4-DBw_bGtj2"
   },
   "source": [
    "## HOMEWORK\n"
   ]
  },
  {
   "cell_type": "markdown",
   "metadata": {
    "id": "c134mC6WGtj3"
   },
   "source": [
    "1. Write a simple handler for the response status code (refer to lab resources slide for HTTP response codes). As this Jupyter Notebook is an interactive device, the handler does not need to manage subsequent code execution (i.e. by branching or aborting execution), although it should return something that could be used to do so if deployed in a Python program."
   ]
  },
  {
   "cell_type": "code",
   "execution_count": null,
   "metadata": {
    "id": "FZM2NAWuGtj4"
   },
   "outputs": [],
   "source": [
    "#ANSWER:\n",
    "def handleResponse(response, verbose = False):\n",
    "    '''\n",
    "    Returns Boolean Value, Status Code, \n",
    "    '''\n",
    "  # if Status Code is 200 return false, and status code\n",
    "  # Otherwise Return True and Status Code"
   ]
  },
  {
   "cell_type": "markdown",
   "metadata": {
    "id": "9aPstlTIGtj5"
   },
   "source": [
    "2. Test your response handler on some correct and incorrect API calls."
   ]
  },
  {
   "cell_type": "code",
   "execution_count": null,
   "metadata": {
    "id": "GYT1LAb8Gtj6"
   },
   "outputs": [],
   "source": [
    "response = requests.get(\"http://api.open-notify.org/astros.json\")\n",
    "if handleResponse(response)[0]:\n",
    "    print('API call failed. Resolve issue before continuing!')\n",
    "    \n",
    "response = requests.get(\"http://api.open-notify.org/iss-now.json\")\n",
    "handleResponse(response, True)[0]"
   ]
  },
  {
   "cell_type": "markdown",
   "metadata": {
    "id": "k0AWq0rIIPza"
   },
   "source": [
    ">"
   ]
  },
  {
   "cell_type": "markdown",
   "metadata": {
    "id": "561tVw5LITP8"
   },
   "source": [
    ">"
   ]
  },
  {
   "cell_type": "markdown",
   "metadata": {
    "id": "H8Z7AkhTIUi3"
   },
   "source": [
    ">"
   ]
  },
  {
   "cell_type": "markdown",
   "metadata": {
    "id": "2lHXfE7KIHQp"
   },
   "source": [
    "\n",
    "\n",
    "---\n",
    "\n",
    "\n",
    "\n",
    "---\n",
    "\n",
    "\n",
    "\n",
    "> > > > > > > > > © 2022 Institute of Data\n",
    "\n",
    "\n",
    "---\n",
    "\n",
    "\n",
    "\n",
    "---\n",
    "\n",
    "\n",
    "\n"
   ]
  }
 ],
 "metadata": {
  "colab": {
   "provenance": [
    {
     "file_id": "1RknypYS3TD4wPumGiPV69EWtkq-3UBwF",
     "timestamp": 1553136072736
    }
   ]
  },
  "kernelspec": {
   "display_name": "Python 3 (ipykernel)",
   "language": "python",
   "name": "python3"
  },
  "language_info": {
   "codemirror_mode": {
    "name": "ipython",
    "version": 3
   },
   "file_extension": ".py",
   "mimetype": "text/x-python",
   "name": "python",
   "nbconvert_exporter": "python",
   "pygments_lexer": "ipython3",
   "version": "3.11.4"
  }
 },
 "nbformat": 4,
 "nbformat_minor": 4
}

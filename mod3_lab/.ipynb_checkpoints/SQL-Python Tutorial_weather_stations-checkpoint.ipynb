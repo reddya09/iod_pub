{
 "cells": [
  {
   "cell_type": "markdown",
   "id": "ce19b35e",
   "metadata": {},
   "source": [
    "### SQL + Python = How I Execute SQL queries from Python"
   ]
  },
  {
   "cell_type": "code",
   "execution_count": null,
   "id": "b3424ac1",
   "metadata": {},
   "outputs": [],
   "source": [
    "pip install sqlite3"
   ]
  },
  {
   "cell_type": "code",
   "execution_count": null,
   "id": "0149fb80",
   "metadata": {},
   "outputs": [],
   "source": [
    "import sqlite3\n",
    "\n",
    "# Create a connection to the database\n",
    "conn = sqlite3.connect('mydatabase.db')\n",
    "cursor = conn.cursor()\n",
    "\n",
    "# Example of a parameterized query\n",
    "query = \"SELECT * FROM users WHERE age > ?\"\n",
    "age_threshold = 30\n",
    "\n",
    "# Execute the query with the parameter\n",
    "cursor.execute(query, (age_threshold,))\n",
    "\n",
    "# Fetch the results\n",
    "results = cursor.fetchall()\n",
    "\n",
    "# Close the connection\n",
    "conn.close()"
   ]
  },
  {
   "cell_type": "markdown",
   "id": "b6beac01",
   "metadata": {},
   "source": [
    "### Here’s an example of how to insert data into the “users” table:"
   ]
  },
  {
   "cell_type": "code",
   "execution_count": null,
   "id": "8a7740d1",
   "metadata": {},
   "outputs": [],
   "source": [
    "import sqlite3\n",
    "\n",
    "# Create a connection to the database\n",
    "conn = sqlite3.connect('mydatabase.db')\n",
    "cursor = conn.cursor()\n",
    "\n",
    "# Insert data into the table\n",
    "cursor.execute(\"INSERT INTO users VALUES ('John Doe', 25)\")\n",
    "cursor.execute(\"INSERT INTO users VALUES ('Jane Smith', 30)\")\n",
    "\n",
    "# Commit the changes and close the connection\n",
    "conn.commit()\n",
    "conn.close()"
   ]
  },
  {
   "cell_type": "code",
   "execution_count": null,
   "id": "89961909",
   "metadata": {},
   "outputs": [],
   "source": [
    "import sqlite3\n",
    "\n",
    "# Create a connection to the database\n",
    "conn = sqlite3.connect('mydatabase.db')\n",
    "cursor = conn.cursor()\n",
    "\n",
    "# Execute a SELECT query\n",
    "cursor.execute(\"SELECT * FROM users\")\n",
    "\n",
    "# To retrieve data from the database, you can use the fetchall() method after executing a SELECT query.\n",
    "# Fetch all the results\n",
    "results = cursor.fetchall()\n",
    "\n",
    "# Print the results\n",
    "for row in results:\n",
    "    print(row)\n",
    "    \n",
    "# Close the connection\n",
    "conn.close()"
   ]
  },
  {
   "cell_type": "code",
   "execution_count": null,
   "id": "7737a875",
   "metadata": {},
   "outputs": [],
   "source": [
    "################################################################################################################################"
   ]
  },
  {
   "cell_type": "code",
   "execution_count": 56,
   "id": "973c27dc",
   "metadata": {},
   "outputs": [],
   "source": [
    "import sqlite3"
   ]
  },
  {
   "cell_type": "markdown",
   "id": "7b7a8fda",
   "metadata": {},
   "source": [
    "#### Creating a SQLite Database in Python\n",
    "\n",
    "In this section of the Python SQLite tutorial, we’ll explore the different ways in which you can create a database in Python with SQLite. In order to do this, we’ll create a Connection object that will represent the database. This object is created using SQLite’s connect() function.\n",
    "\n",
    "Let’s first create a .db file, as this is a very standard way of actually maintaining a SQLite database. We’ll represent the connection using a variable named conn. We’ll create a file called orders.db."
   ]
  },
  {
   "cell_type": "code",
   "execution_count": 57,
   "id": "3ab8316d",
   "metadata": {},
   "outputs": [],
   "source": [
    "conn = sqlite3.connect('d:/orders.db')"
   ]
  },
  {
   "cell_type": "markdown",
   "id": "7b34d7e3",
   "metadata": {},
   "source": [
    "With this line of code, we’ve created a new connection object, as well as a new file called orders.db in the directory in which you’re working. If you wanted to specify a specific directory, you could write:"
   ]
  },
  {
   "cell_type": "code",
   "execution_count": 58,
   "id": "b1e02317",
   "metadata": {},
   "outputs": [],
   "source": [
    "conn = sqlite3.connect(r'orders.db')"
   ]
  },
  {
   "cell_type": "markdown",
   "id": "b4a4111c",
   "metadata": {},
   "source": [
    "If the file already exists, the connect function will simply connect to that file."
   ]
  },
  {
   "cell_type": "markdown",
   "id": "d36b6e77",
   "metadata": {},
   "source": [
    "The connect function creates a connection to the SQLite database and returns an object to represent it."
   ]
  },
  {
   "cell_type": "markdown",
   "id": "67d9f3e4",
   "metadata": {},
   "source": [
    "#### In-Memory Databases\n",
    "\n",
    "Another way of generating databases using SQLite in Python is to create them in memory. This is a great way to generate databases that can be used for testing purposes, as they exist only in RAM."
   ]
  },
  {
   "cell_type": "code",
   "execution_count": 59,
   "id": "fff25e6a",
   "metadata": {},
   "outputs": [],
   "source": [
    "conn = sqlite3.connect(\":memory:\")"
   ]
  },
  {
   "cell_type": "markdown",
   "id": "3901ddc0",
   "metadata": {},
   "source": [
    "#### Creating a Cursor Object\n",
    "Now that we’ve created a database connection object, our next task is to create a cursor object. Simply put, a cursor object allows us to execute SQL queries against a database. We’ll create a variable cur to hold our cursor object"
   ]
  },
  {
   "cell_type": "code",
   "execution_count": 60,
   "id": "7a6a86fc",
   "metadata": {},
   "outputs": [],
   "source": [
    "cur = conn.cursor()"
   ]
  },
  {
   "cell_type": "markdown",
   "id": "8d0da57d",
   "metadata": {},
   "source": [
    "Now that we have a cursor object, we can use it to run SQL queries in the following style:"
   ]
  },
  {
   "cell_type": "code",
   "execution_count": 61,
   "id": "46a9e8e4",
   "metadata": {},
   "outputs": [],
   "source": [
    "# cur.execute(\"YOUR-SQL-QUERY-HERE;\")"
   ]
  },
  {
   "cell_type": "markdown",
   "id": "e3cf515d",
   "metadata": {},
   "source": [
    "Notice that we wrapped our SQL query in quotes — this is important. It doesn’t matter if we use single, double, or triple quotes. For longer queries, it’s often best to use triple quotes, as they allow us to write multi-line queries."
   ]
  },
  {
   "cell_type": "markdown",
   "id": "652b3479",
   "metadata": {},
   "source": [
    "#### Creating our Tables in SQLite for Python\n",
    "At this point in the Python SQLite tutorial, let’s create our first table using SQLite in Python! Now that we have a connection object (conn) and a cursor object (cur), we can create our first table. Following our database schema that we showed earlier:"
   ]
  },
  {
   "cell_type": "markdown",
   "id": "456fd632",
   "metadata": {},
   "source": [
    "We’ll start off with the users table."
   ]
  },
  {
   "cell_type": "code",
   "execution_count": 62,
   "id": "279d04b2",
   "metadata": {},
   "outputs": [],
   "source": [
    "cur.execute(\"\"\"CREATE TABLE IF NOT EXISTS users(\n",
    "   userid INT PRIMARY KEY,\n",
    "   fname TEXT,\n",
    "   lname TEXT,\n",
    "   gender TEXT);\n",
    "\"\"\")\n",
    "conn.commit()"
   ]
  },
  {
   "cell_type": "markdown",
   "id": "6a1c9ad9",
   "metadata": {},
   "source": [
    "In the code above, we’re doing a number of things:\n",
    "\n",
    "1.Using the execute function on the cursor object to execute a SQL query\n",
    "\n",
    "2.Using SQL to generate a table called users\n",
    "\n",
    "3.The IF NOT EXISTS will help us when reconnecting to the database. The query will allow us to check if the table exists, and if it does, nothing is changed.\n",
    "\n",
    "4.We create four columns: userid, fname, lname, and gender. userid is assigned to be the primary key.\n",
    "\n",
    "5.We committed the changes by using the commit function on the connection object."
   ]
  },
  {
   "cell_type": "code",
   "execution_count": null,
   "id": "c2af1706",
   "metadata": {},
   "outputs": [],
   "source": []
  },
  {
   "cell_type": "markdown",
   "id": "47e8778b",
   "metadata": {},
   "source": [
    "To create our other table, we can follow a similar pattern and write the following commands:"
   ]
  },
  {
   "cell_type": "code",
   "execution_count": 63,
   "id": "9ee5331b",
   "metadata": {},
   "outputs": [],
   "source": [
    "cur.execute(\"\"\"CREATE TABLE IF NOT EXISTS orders(\n",
    "   orderid INT PRIMARY KEY,\n",
    "   date TEXT,\n",
    "   userid TEXT,\n",
    "   total TEXT);\n",
    "\"\"\")\n",
    "conn.commit()"
   ]
  },
  {
   "cell_type": "markdown",
   "id": "0cf8b4f6",
   "metadata": {},
   "source": [
    "After executing these two scripts, your database will have two tables. We’re now ready to begin adding in data!"
   ]
  },
  {
   "cell_type": "markdown",
   "id": "d356166c",
   "metadata": {},
   "source": [
    "#### Adding Data with SQLite in Python\n",
    "Let’s take a look at how to add data with SQLite in Python to the database we just created. Similar to the table generation query, the query to add data uses the cursor object to execute the query."
   ]
  },
  {
   "cell_type": "code",
   "execution_count": 64,
   "id": "ce650737",
   "metadata": {},
   "outputs": [],
   "source": [
    "cur.execute(\"\"\"INSERT INTO users(userid, fname, lname, gender) \n",
    "   VALUES('00001', 'Nik', 'Piepenbreier', 'male');\"\"\")\n",
    "conn.commit()"
   ]
  },
  {
   "cell_type": "markdown",
   "id": "09d28603",
   "metadata": {},
   "source": [
    "Often, when we’re working within Python, we’ll have variables that hold values for us. For example, we may have a tuple that contains that information about a user which might look like this:"
   ]
  },
  {
   "cell_type": "code",
   "execution_count": 65,
   "id": "17821447",
   "metadata": {},
   "outputs": [],
   "source": [
    "user = ('00002', 'Lois', 'Lane', 'Female')"
   ]
  },
  {
   "cell_type": "markdown",
   "id": "f52df2b6",
   "metadata": {},
   "source": [
    "If we wanted to load this data into our database, we would use a different convention:"
   ]
  },
  {
   "cell_type": "code",
   "execution_count": 66,
   "id": "50ef53da",
   "metadata": {},
   "outputs": [],
   "source": [
    "cur.execute(\"INSERT INTO users VALUES(?, ?, ?, ?);\", user)\n",
    "conn.commit()"
   ]
  },
  {
   "cell_type": "markdown",
   "id": "bfcf9ebf",
   "metadata": {},
   "source": [
    "What we did here was replace all the values with question marks and add an additional parameter that contains the values we’re hoping to add.\n",
    "\n",
    "It’s important to note here that the SQLite expects the values to be in tuple-format. However, the variable can contain a list, as long as the list items are tuples. For example, we could add more users using the variable:"
   ]
  },
  {
   "cell_type": "code",
   "execution_count": 67,
   "id": "605026ed",
   "metadata": {},
   "outputs": [],
   "source": [
    "more_users = [('00003', 'Peter', 'Parker', 'Male'), ('00004', 'Bruce', 'Wayne', 'male')]"
   ]
  },
  {
   "cell_type": "markdown",
   "id": "da236318",
   "metadata": {},
   "source": [
    "In this case, instead of using the execute function, we’ll want to use the executemany function:"
   ]
  },
  {
   "cell_type": "code",
   "execution_count": 69,
   "id": "1a2da65d",
   "metadata": {},
   "outputs": [],
   "source": [
    "cur.executemany(\"INSERT INTO users VALUES(?, ?, ?, ?);\", more_users)\n",
    "conn.commit()"
   ]
  },
  {
   "cell_type": "markdown",
   "id": "542bbc66",
   "metadata": {},
   "source": [
    "#### SQLite and Preventing Injection Attacks\n",
    "Incidentally, using the (?, ?, …) method we noted above also helps protect against SQL injection attacks. Because of this, it’s recommended to use this method over the previously noted method. It’s also easier to type out, so it’s a win-win"
   ]
  },
  {
   "cell_type": "markdown",
   "id": "49202253",
   "metadata": {},
   "source": [
    "#### Some Scripts to Load More Data\n",
    "If you’re following along on your own in the Python SQLite tutorial , let’s load some more data to make the following sections more meaningful. Below are some scripts you can copy and paste to insert some sample data into both tables:"
   ]
  },
  {
   "cell_type": "code",
   "execution_count": 45,
   "id": "7e4690ae",
   "metadata": {},
   "outputs": [],
   "source": [
    "customers = [('00005', 'Stephanie', 'Stewart', 'female'), ('00006', 'Sincere', 'Sherman', 'female'), ('00007', 'Sidney', 'Horn', 'male'), ('00008', 'Litzy', 'Yates', 'female'), ('00009', 'Jaxon', 'Mills', 'male'), ('00010', 'Paul', 'Richard', 'male'), ('00011', 'Kamari', 'Holden', 'female'), ('00012', 'Gaige', 'Summers', 'female'), ('00013', 'Andrea', 'Snow', 'female'), ('00014', 'Angelica', 'Barnes', 'female'), ('00015', 'Leah', 'Pitts', 'female'), ('00016', 'Dillan', 'Olsen', 'male'), ('00017', 'Joe', 'Walsh', 'male'), ('00018', 'Reagan', 'Cooper', 'male'), ('00019', 'Aubree', 'Hogan', 'female'), ('00020', 'Avery', 'Floyd', 'male'), ('00021', 'Elianna', 'Simmons', 'female'), ('00022', 'Rodney', 'Stout', 'male'), ('00023', 'Elaine', 'Mcintosh', 'female'), ('00024', 'Myla', 'Mckenzie', 'female'), ('00025', 'Alijah', 'Horn', 'female'), ('00026', 'Rohan', 'Peterson', 'male'), ('00027', 'Irene', 'Walters', 'female'), ('00028', 'Lilia', 'Sellers', 'female'), ('00029', 'Perla', 'Jefferson', 'female'), ('00030', 'Ashley', 'Klein', 'female')]\n",
    "orders = [('00001', '2020-01-01', '00025', '178'), ('00002', '2020-01-03', '00025', '39'), ('00003', '2020-01-07', '00016', '153'), ('00004', '2020-01-10', '00015', '110'), ('00005', '2020-01-11', '00024', '219'), ('00006', '2020-01-12', '00029', '37'), ('00007', '2020-01-14', '00028', '227'), ('00008', '2020-01-18', '00010', '232'), ('00009', '2020-01-22', '00016', '236'), ('00010', '2020-01-26', '00017', '116'), ('00011', '2020-01-28', '00028', '221'), ('00012', '2020-01-31', '00021', '238'), ('00013', '2020-02-02', '00015', '177'), ('00014', '2020-02-05', '00025', '76'), ('00015', '2020-02-08', '00022', '245'), ('00016', '2020-02-12', '00008', '180'), ('00017', '2020-02-14', '00020', '190'), ('00018', '2020-02-18', '00030', '166'), ('00019', '2020-02-22', '00002', '168'), ('00020', '2020-02-26', '00021', '174'), ('00021', '2020-02-29', '00017', '126'), ('00022', '2020-03-02', '00019', '211'), ('00023', '2020-03-05', '00030', '144'), ('00024', '2020-03-09', '00012', '112'), ('00025', '2020-03-10', '00006', '45'), ('00026', '2020-03-11', '00004', '200'), ('00027', '2020-03-14', '00015', '226'), ('00028', '2020-03-17', '00030', '189'), ('00029', '2020-03-20', '00004', '152'), ('00030', '2020-03-22', '00026', '239'), ('00031', '2020-03-23', '00012', '135'), ('00032', '2020-03-24', '00013', '211'), ('00033', '2020-03-27', '00030', '226'), ('00034', '2020-03-28', '00007', '173'), ('00035', '2020-03-30', '00010', '144'), ('00036', '2020-04-01', '00017', '185'), ('00037', '2020-04-03', '00009', '95'), ('00038', '2020-04-06', '00009', '138'), ('00039', '2020-04-10', '00025', '223'), ('00040', '2020-04-12', '00019', '118'), ('00041', '2020-04-15', '00024', '132'), ('00042', '2020-04-18', '00008', '238'), ('00043', '2020-04-21', '00003', '50'), ('00044', '2020-04-25', '00019', '98'), ('00045', '2020-04-26', '00017', '167'), ('00046', '2020-04-28', '00009', '215'), ('00047', '2020-05-01', '00014', '142'), ('00048', '2020-05-05', '00022', '173'), ('00049', '2020-05-06', '00015', '80'), ('00050', '2020-05-07', '00017', '37'), ('00051', '2020-05-08', '00002', '36'), ('00052', '2020-05-10', '00022', '65'), ('00053', '2020-05-14', '00019', '110'), ('00054', '2020-05-18', '00017', '36'), ('00055', '2020-05-21', '00008', '163'), ('00056', '2020-05-24', '00024', '91'), ('00057', '2020-05-26', '00028', '154'), ('00058', '2020-05-30', '00022', '130'), ('00059', '2020-05-31', '00017', '119'), ('00060', '2020-06-01', '00024', '137'), ('00061', '2020-06-03', '00017', '206'), ('00062', '2020-06-04', '00013', '100'), ('00063', '2020-06-05', '00021', '187'), ('00064', '2020-06-09', '00025', '170'), ('00065', '2020-06-11', '00011', '149'), ('00066', '2020-06-12', '00007', '195'), ('00067', '2020-06-14', '00015', '30'), ('00068', '2020-06-16', '00002', '246'), ('00069', '2020-06-20', '00028', '163'), ('00070', '2020-06-22', '00005', '184'), ('00071', '2020-06-23', '00022', '68'), ('00072', '2020-06-27', '00013', '92'), ('00073', '2020-06-30', '00022', '149'), ('00074', '2020-07-04', '00002', '65'), ('00075', '2020-07-05', '00017', '88'), ('00076', '2020-07-09', '00007', '156'), ('00077', '2020-07-13', '00010', '26'), ('00078', '2020-07-16', '00008', '55'), ('00079', '2020-07-20', '00019', '81'), ('00080', '2020-07-22', '00011', '78'), ('00081', '2020-07-23', '00026', '166'), ('00082', '2020-07-27', '00014', '65'), ('00083', '2020-07-30', '00021', '205'), ('00084', '2020-08-01', '00026', '140'), ('00085', '2020-08-05', '00006', '236'), ('00086', '2020-08-06', '00021', '208'), ('00087', '2020-08-07', '00021', '169'), ('00088', '2020-08-08', '00004', '157'), ('00089', '2020-08-11', '00017', '71'), ('00090', '2020-08-13', '00025', '89'), ('00091', '2020-08-16', '00014', '249'), ('00092', '2020-08-18', '00012', '59'), ('00093', '2020-08-19', '00013', '121'), ('00094', '2020-08-20', '00025', '179'), ('00095', '2020-08-22', '00017', '208'), ('00096', '2020-08-26', '00024', '217'), ('00097', '2020-08-28', '00004', '206'), ('00098', '2020-08-30', '00017', '114'), ('00099', '2020-08-31', '00017', '169'), ('00100', '2020-09-02', '00022', '226')]"
   ]
  },
  {
   "cell_type": "markdown",
   "id": "eddd9863",
   "metadata": {},
   "source": [
    "You can load this data in by using the following queries:"
   ]
  },
  {
   "cell_type": "code",
   "execution_count": 46,
   "id": "5052329f",
   "metadata": {},
   "outputs": [],
   "source": [
    "cur.executemany(\"INSERT INTO users VALUES(?, ?, ?, ?);\", customers)\n",
    "cur.executemany(\"INSERT INTO orders VALUES(?, ?, ?, ?);\", orders)\n",
    "conn.commit()"
   ]
  },
  {
   "cell_type": "markdown",
   "id": "f2c3bd87",
   "metadata": {},
   "source": [
    "#### Selecting Data in SQLite with Python\n",
    "Next in this Python SQLite tutorial , we’ll take a look at how to select data with SQLite in Python! We’ll follow a similar structure as we did to execute queries above, but we’ll add another element to it as well."
   ]
  },
  {
   "cell_type": "markdown",
   "id": "b416a845",
   "metadata": {},
   "source": [
    "#### Using fetchone() in SQLite with Python\n",
    "Let’s begin by using the fetchone() function. We create a variable one_result to pull only result"
   ]
  },
  {
   "cell_type": "code",
   "execution_count": 47,
   "id": "2ea32122",
   "metadata": {},
   "outputs": [
    {
     "name": "stdout",
     "output_type": "stream",
     "text": [
      "(1, 'Nik', 'Piepenbreier', 'male')\n"
     ]
    }
   ],
   "source": [
    "cur.execute(\"SELECT * FROM users;\")\n",
    "one_result = cur.fetchone()\n",
    "print(one_result)"
   ]
  },
  {
   "cell_type": "markdown",
   "id": "5b16cd69",
   "metadata": {},
   "source": [
    "#### Using fetchmany() in SQLite with Python\n",
    "Say we wanted to return more than only one result, we could use the fetchmany() function. Let’s run a different script to generate 3 results:"
   ]
  },
  {
   "cell_type": "code",
   "execution_count": 48,
   "id": "0dbb3aab",
   "metadata": {},
   "outputs": [
    {
     "name": "stdout",
     "output_type": "stream",
     "text": [
      "[(1, 'Nik', 'Piepenbreier', 'male'), (2, 'Lois', 'Lane', 'Female'), (3, 'Peter', 'Parker', 'Male')]\n"
     ]
    }
   ],
   "source": [
    "cur.execute(\"SELECT * FROM users;\")\n",
    "three_results = cur.fetchmany(3)\n",
    "print(three_results)"
   ]
  },
  {
   "cell_type": "markdown",
   "id": "e21bbd27",
   "metadata": {},
   "source": [
    "#### Using fetchall() in SQLite with Python\n",
    "Similarly, we could use the fetchall() function to return all the results. If we ran the following, all results would be returned:"
   ]
  },
  {
   "cell_type": "code",
   "execution_count": 49,
   "id": "cd57f92d",
   "metadata": {},
   "outputs": [
    {
     "name": "stdout",
     "output_type": "stream",
     "text": [
      "[(1, 'Nik', 'Piepenbreier', 'male'), (2, 'Lois', 'Lane', 'Female'), (3, 'Peter', 'Parker', 'Male'), (4, 'Bruce', 'Wayne', 'male'), (5, 'Stephanie', 'Stewart', 'female'), (6, 'Sincere', 'Sherman', 'female'), (7, 'Sidney', 'Horn', 'male'), (8, 'Litzy', 'Yates', 'female'), (9, 'Jaxon', 'Mills', 'male'), (10, 'Paul', 'Richard', 'male'), (11, 'Kamari', 'Holden', 'female'), (12, 'Gaige', 'Summers', 'female'), (13, 'Andrea', 'Snow', 'female'), (14, 'Angelica', 'Barnes', 'female'), (15, 'Leah', 'Pitts', 'female'), (16, 'Dillan', 'Olsen', 'male'), (17, 'Joe', 'Walsh', 'male'), (18, 'Reagan', 'Cooper', 'male'), (19, 'Aubree', 'Hogan', 'female'), (20, 'Avery', 'Floyd', 'male'), (21, 'Elianna', 'Simmons', 'female'), (22, 'Rodney', 'Stout', 'male'), (23, 'Elaine', 'Mcintosh', 'female'), (24, 'Myla', 'Mckenzie', 'female'), (25, 'Alijah', 'Horn', 'female'), (26, 'Rohan', 'Peterson', 'male'), (27, 'Irene', 'Walters', 'female'), (28, 'Lilia', 'Sellers', 'female'), (29, 'Perla', 'Jefferson', 'female'), (30, 'Ashley', 'Klein', 'female')]\n"
     ]
    }
   ],
   "source": [
    "cur.execute(\"SELECT * FROM users;\")\n",
    "all_results = cur.fetchall()\n",
    "print(all_results)"
   ]
  },
  {
   "cell_type": "markdown",
   "id": "54c4a807",
   "metadata": {},
   "source": [
    "#### Deleting Data in SQLite with Python"
   ]
  },
  {
   "cell_type": "markdown",
   "id": "769831f1",
   "metadata": {},
   "source": [
    "Now, we’ll take a look at how to delete data using SQLite in Python. We can accomplish this using a similar structure to above. Say we wanted to delete any user with the last name ‘Parker’, we could write:"
   ]
  },
  {
   "cell_type": "code",
   "execution_count": 50,
   "id": "ed5992b3",
   "metadata": {},
   "outputs": [],
   "source": [
    "cur.execute(\"DELETE FROM users WHERE lname='Parker';\")\n",
    "conn.commit()"
   ]
  },
  {
   "cell_type": "markdown",
   "id": "ff5f8308",
   "metadata": {},
   "source": [
    "When we then run the query below:"
   ]
  },
  {
   "cell_type": "code",
   "execution_count": 51,
   "id": "725d12f2",
   "metadata": {},
   "outputs": [
    {
     "name": "stdout",
     "output_type": "stream",
     "text": [
      "[]\n"
     ]
    }
   ],
   "source": [
    "cur.execute(\"select * from users where lname='Parker'\")\n",
    "print(cur.fetchall())"
   ]
  },
  {
   "cell_type": "markdown",
   "id": "e464a6f6",
   "metadata": {},
   "source": [
    "This prints out an empty list, confirming that the record has been deleted."
   ]
  },
  {
   "cell_type": "markdown",
   "id": "3268e12c",
   "metadata": {},
   "source": [
    "#### Joining Tables with SQLite in Python"
   ]
  },
  {
   "cell_type": "markdown",
   "id": "24345078",
   "metadata": {},
   "source": [
    "Finally, let’s take a look at how to join data with a more complex query. Let’s say we wanted to generate a query that includes the first and last name for each customer on each order."
   ]
  },
  {
   "cell_type": "markdown",
   "id": "a6fd3755",
   "metadata": {},
   "source": [
    "To accomplish this we let’s write the following:"
   ]
  },
  {
   "cell_type": "code",
   "execution_count": 52,
   "id": "bf3cd29f",
   "metadata": {},
   "outputs": [
    {
     "name": "stdout",
     "output_type": "stream",
     "text": [
      "[(1, '2020-01-01', '00025', '178', 25, 'Alijah', 'Horn', 'female', 'Alijah', 'Horn'), (2, '2020-01-03', '00025', '39', 25, 'Alijah', 'Horn', 'female', 'Alijah', 'Horn'), (3, '2020-01-07', '00016', '153', 16, 'Dillan', 'Olsen', 'male', 'Dillan', 'Olsen'), (4, '2020-01-10', '00015', '110', 15, 'Leah', 'Pitts', 'female', 'Leah', 'Pitts'), (5, '2020-01-11', '00024', '219', 24, 'Myla', 'Mckenzie', 'female', 'Myla', 'Mckenzie'), (6, '2020-01-12', '00029', '37', 29, 'Perla', 'Jefferson', 'female', 'Perla', 'Jefferson'), (7, '2020-01-14', '00028', '227', 28, 'Lilia', 'Sellers', 'female', 'Lilia', 'Sellers'), (8, '2020-01-18', '00010', '232', 10, 'Paul', 'Richard', 'male', 'Paul', 'Richard'), (9, '2020-01-22', '00016', '236', 16, 'Dillan', 'Olsen', 'male', 'Dillan', 'Olsen'), (10, '2020-01-26', '00017', '116', 17, 'Joe', 'Walsh', 'male', 'Joe', 'Walsh'), (11, '2020-01-28', '00028', '221', 28, 'Lilia', 'Sellers', 'female', 'Lilia', 'Sellers'), (12, '2020-01-31', '00021', '238', 21, 'Elianna', 'Simmons', 'female', 'Elianna', 'Simmons'), (13, '2020-02-02', '00015', '177', 15, 'Leah', 'Pitts', 'female', 'Leah', 'Pitts'), (14, '2020-02-05', '00025', '76', 25, 'Alijah', 'Horn', 'female', 'Alijah', 'Horn'), (15, '2020-02-08', '00022', '245', 22, 'Rodney', 'Stout', 'male', 'Rodney', 'Stout'), (16, '2020-02-12', '00008', '180', 8, 'Litzy', 'Yates', 'female', 'Litzy', 'Yates'), (17, '2020-02-14', '00020', '190', 20, 'Avery', 'Floyd', 'male', 'Avery', 'Floyd'), (18, '2020-02-18', '00030', '166', 30, 'Ashley', 'Klein', 'female', 'Ashley', 'Klein'), (19, '2020-02-22', '00002', '168', 2, 'Lois', 'Lane', 'Female', 'Lois', 'Lane'), (20, '2020-02-26', '00021', '174', 21, 'Elianna', 'Simmons', 'female', 'Elianna', 'Simmons'), (21, '2020-02-29', '00017', '126', 17, 'Joe', 'Walsh', 'male', 'Joe', 'Walsh'), (22, '2020-03-02', '00019', '211', 19, 'Aubree', 'Hogan', 'female', 'Aubree', 'Hogan'), (23, '2020-03-05', '00030', '144', 30, 'Ashley', 'Klein', 'female', 'Ashley', 'Klein'), (24, '2020-03-09', '00012', '112', 12, 'Gaige', 'Summers', 'female', 'Gaige', 'Summers'), (25, '2020-03-10', '00006', '45', 6, 'Sincere', 'Sherman', 'female', 'Sincere', 'Sherman'), (26, '2020-03-11', '00004', '200', 4, 'Bruce', 'Wayne', 'male', 'Bruce', 'Wayne'), (27, '2020-03-14', '00015', '226', 15, 'Leah', 'Pitts', 'female', 'Leah', 'Pitts'), (28, '2020-03-17', '00030', '189', 30, 'Ashley', 'Klein', 'female', 'Ashley', 'Klein'), (29, '2020-03-20', '00004', '152', 4, 'Bruce', 'Wayne', 'male', 'Bruce', 'Wayne'), (30, '2020-03-22', '00026', '239', 26, 'Rohan', 'Peterson', 'male', 'Rohan', 'Peterson'), (31, '2020-03-23', '00012', '135', 12, 'Gaige', 'Summers', 'female', 'Gaige', 'Summers'), (32, '2020-03-24', '00013', '211', 13, 'Andrea', 'Snow', 'female', 'Andrea', 'Snow'), (33, '2020-03-27', '00030', '226', 30, 'Ashley', 'Klein', 'female', 'Ashley', 'Klein'), (34, '2020-03-28', '00007', '173', 7, 'Sidney', 'Horn', 'male', 'Sidney', 'Horn'), (35, '2020-03-30', '00010', '144', 10, 'Paul', 'Richard', 'male', 'Paul', 'Richard'), (36, '2020-04-01', '00017', '185', 17, 'Joe', 'Walsh', 'male', 'Joe', 'Walsh'), (37, '2020-04-03', '00009', '95', 9, 'Jaxon', 'Mills', 'male', 'Jaxon', 'Mills'), (38, '2020-04-06', '00009', '138', 9, 'Jaxon', 'Mills', 'male', 'Jaxon', 'Mills'), (39, '2020-04-10', '00025', '223', 25, 'Alijah', 'Horn', 'female', 'Alijah', 'Horn'), (40, '2020-04-12', '00019', '118', 19, 'Aubree', 'Hogan', 'female', 'Aubree', 'Hogan'), (41, '2020-04-15', '00024', '132', 24, 'Myla', 'Mckenzie', 'female', 'Myla', 'Mckenzie'), (42, '2020-04-18', '00008', '238', 8, 'Litzy', 'Yates', 'female', 'Litzy', 'Yates'), (43, '2020-04-21', '00003', '50', None, None, None, None, None, None), (44, '2020-04-25', '00019', '98', 19, 'Aubree', 'Hogan', 'female', 'Aubree', 'Hogan'), (45, '2020-04-26', '00017', '167', 17, 'Joe', 'Walsh', 'male', 'Joe', 'Walsh'), (46, '2020-04-28', '00009', '215', 9, 'Jaxon', 'Mills', 'male', 'Jaxon', 'Mills'), (47, '2020-05-01', '00014', '142', 14, 'Angelica', 'Barnes', 'female', 'Angelica', 'Barnes'), (48, '2020-05-05', '00022', '173', 22, 'Rodney', 'Stout', 'male', 'Rodney', 'Stout'), (49, '2020-05-06', '00015', '80', 15, 'Leah', 'Pitts', 'female', 'Leah', 'Pitts'), (50, '2020-05-07', '00017', '37', 17, 'Joe', 'Walsh', 'male', 'Joe', 'Walsh'), (51, '2020-05-08', '00002', '36', 2, 'Lois', 'Lane', 'Female', 'Lois', 'Lane'), (52, '2020-05-10', '00022', '65', 22, 'Rodney', 'Stout', 'male', 'Rodney', 'Stout'), (53, '2020-05-14', '00019', '110', 19, 'Aubree', 'Hogan', 'female', 'Aubree', 'Hogan'), (54, '2020-05-18', '00017', '36', 17, 'Joe', 'Walsh', 'male', 'Joe', 'Walsh'), (55, '2020-05-21', '00008', '163', 8, 'Litzy', 'Yates', 'female', 'Litzy', 'Yates'), (56, '2020-05-24', '00024', '91', 24, 'Myla', 'Mckenzie', 'female', 'Myla', 'Mckenzie'), (57, '2020-05-26', '00028', '154', 28, 'Lilia', 'Sellers', 'female', 'Lilia', 'Sellers'), (58, '2020-05-30', '00022', '130', 22, 'Rodney', 'Stout', 'male', 'Rodney', 'Stout'), (59, '2020-05-31', '00017', '119', 17, 'Joe', 'Walsh', 'male', 'Joe', 'Walsh'), (60, '2020-06-01', '00024', '137', 24, 'Myla', 'Mckenzie', 'female', 'Myla', 'Mckenzie'), (61, '2020-06-03', '00017', '206', 17, 'Joe', 'Walsh', 'male', 'Joe', 'Walsh'), (62, '2020-06-04', '00013', '100', 13, 'Andrea', 'Snow', 'female', 'Andrea', 'Snow'), (63, '2020-06-05', '00021', '187', 21, 'Elianna', 'Simmons', 'female', 'Elianna', 'Simmons'), (64, '2020-06-09', '00025', '170', 25, 'Alijah', 'Horn', 'female', 'Alijah', 'Horn'), (65, '2020-06-11', '00011', '149', 11, 'Kamari', 'Holden', 'female', 'Kamari', 'Holden'), (66, '2020-06-12', '00007', '195', 7, 'Sidney', 'Horn', 'male', 'Sidney', 'Horn'), (67, '2020-06-14', '00015', '30', 15, 'Leah', 'Pitts', 'female', 'Leah', 'Pitts'), (68, '2020-06-16', '00002', '246', 2, 'Lois', 'Lane', 'Female', 'Lois', 'Lane'), (69, '2020-06-20', '00028', '163', 28, 'Lilia', 'Sellers', 'female', 'Lilia', 'Sellers'), (70, '2020-06-22', '00005', '184', 5, 'Stephanie', 'Stewart', 'female', 'Stephanie', 'Stewart'), (71, '2020-06-23', '00022', '68', 22, 'Rodney', 'Stout', 'male', 'Rodney', 'Stout'), (72, '2020-06-27', '00013', '92', 13, 'Andrea', 'Snow', 'female', 'Andrea', 'Snow'), (73, '2020-06-30', '00022', '149', 22, 'Rodney', 'Stout', 'male', 'Rodney', 'Stout'), (74, '2020-07-04', '00002', '65', 2, 'Lois', 'Lane', 'Female', 'Lois', 'Lane'), (75, '2020-07-05', '00017', '88', 17, 'Joe', 'Walsh', 'male', 'Joe', 'Walsh'), (76, '2020-07-09', '00007', '156', 7, 'Sidney', 'Horn', 'male', 'Sidney', 'Horn'), (77, '2020-07-13', '00010', '26', 10, 'Paul', 'Richard', 'male', 'Paul', 'Richard'), (78, '2020-07-16', '00008', '55', 8, 'Litzy', 'Yates', 'female', 'Litzy', 'Yates'), (79, '2020-07-20', '00019', '81', 19, 'Aubree', 'Hogan', 'female', 'Aubree', 'Hogan'), (80, '2020-07-22', '00011', '78', 11, 'Kamari', 'Holden', 'female', 'Kamari', 'Holden'), (81, '2020-07-23', '00026', '166', 26, 'Rohan', 'Peterson', 'male', 'Rohan', 'Peterson'), (82, '2020-07-27', '00014', '65', 14, 'Angelica', 'Barnes', 'female', 'Angelica', 'Barnes'), (83, '2020-07-30', '00021', '205', 21, 'Elianna', 'Simmons', 'female', 'Elianna', 'Simmons'), (84, '2020-08-01', '00026', '140', 26, 'Rohan', 'Peterson', 'male', 'Rohan', 'Peterson'), (85, '2020-08-05', '00006', '236', 6, 'Sincere', 'Sherman', 'female', 'Sincere', 'Sherman'), (86, '2020-08-06', '00021', '208', 21, 'Elianna', 'Simmons', 'female', 'Elianna', 'Simmons'), (87, '2020-08-07', '00021', '169', 21, 'Elianna', 'Simmons', 'female', 'Elianna', 'Simmons'), (88, '2020-08-08', '00004', '157', 4, 'Bruce', 'Wayne', 'male', 'Bruce', 'Wayne'), (89, '2020-08-11', '00017', '71', 17, 'Joe', 'Walsh', 'male', 'Joe', 'Walsh'), (90, '2020-08-13', '00025', '89', 25, 'Alijah', 'Horn', 'female', 'Alijah', 'Horn'), (91, '2020-08-16', '00014', '249', 14, 'Angelica', 'Barnes', 'female', 'Angelica', 'Barnes'), (92, '2020-08-18', '00012', '59', 12, 'Gaige', 'Summers', 'female', 'Gaige', 'Summers'), (93, '2020-08-19', '00013', '121', 13, 'Andrea', 'Snow', 'female', 'Andrea', 'Snow'), (94, '2020-08-20', '00025', '179', 25, 'Alijah', 'Horn', 'female', 'Alijah', 'Horn'), (95, '2020-08-22', '00017', '208', 17, 'Joe', 'Walsh', 'male', 'Joe', 'Walsh'), (96, '2020-08-26', '00024', '217', 24, 'Myla', 'Mckenzie', 'female', 'Myla', 'Mckenzie'), (97, '2020-08-28', '00004', '206', 4, 'Bruce', 'Wayne', 'male', 'Bruce', 'Wayne'), (98, '2020-08-30', '00017', '114', 17, 'Joe', 'Walsh', 'male', 'Joe', 'Walsh'), (99, '2020-08-31', '00017', '169', 17, 'Joe', 'Walsh', 'male', 'Joe', 'Walsh'), (100, '2020-09-02', '00022', '226', 22, 'Rodney', 'Stout', 'male', 'Rodney', 'Stout')]\n"
     ]
    }
   ],
   "source": [
    "cur.execute(\"\"\"SELECT *, users.fname, users.lname FROM orders\n",
    "    LEFT JOIN users ON users.userid=orders.userid;\"\"\")\n",
    "print(cur.fetchall())"
   ]
  },
  {
   "cell_type": "markdown",
   "id": "a6f80c27",
   "metadata": {},
   "source": [
    "https://datagy.io/sql-beginners-tutorial/"
   ]
  },
  {
   "cell_type": "markdown",
   "id": "c1103ff9",
   "metadata": {},
   "source": [
    "#### Conclusion: Python SQLite Tutorial\n",
    "In this Python SQLite tutorial, we explored everything you need to know to get started with SQLite in Python. We started off with how to load the library, explored how to create a database and tables, how to add data, how to query the tables, and how to delete data."
   ]
  }
 ],
 "metadata": {
  "kernelspec": {
   "display_name": "Python 3 (ipykernel)",
   "language": "python",
   "name": "python3"
  },
  "language_info": {
   "codemirror_mode": {
    "name": "ipython",
    "version": 3
   },
   "file_extension": ".py",
   "mimetype": "text/x-python",
   "name": "python",
   "nbconvert_exporter": "python",
   "pygments_lexer": "ipython3",
   "version": "3.11.4"
  },
  "toc": {
   "base_numbering": 1,
   "nav_menu": {},
   "number_sections": true,
   "sideBar": true,
   "skip_h1_title": false,
   "title_cell": "Table of Contents",
   "title_sidebar": "Contents",
   "toc_cell": false,
   "toc_position": {},
   "toc_section_display": true,
   "toc_window_display": false
  }
 },
 "nbformat": 4,
 "nbformat_minor": 5
}

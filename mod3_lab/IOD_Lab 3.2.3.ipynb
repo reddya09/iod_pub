{
 "cells": [
  {
   "cell_type": "markdown",
   "metadata": {
    "id": "QaGbHIhQLFYq"
   },
   "source": [
    "<div>\n",
    "<img src=https://www.institutedata.com/wp-content/uploads/2019/10/iod_h_tp_primary_c.svg width=\"300\">\n",
    "</div>"
   ]
  },
  {
   "cell_type": "markdown",
   "metadata": {
    "id": "sMx6dqz7LFYv"
   },
   "source": [
    "# Lab 3.2.3 \n",
    "# *The Google BigQuery UI and API*"
   ]
  },
  {
   "cell_type": "markdown",
   "metadata": {
    "id": "SKGiPVSwLFYx"
   },
   "source": [
    "## Introduction"
   ]
  },
  {
   "cell_type": "markdown",
   "metadata": {
    "id": "aKMV45iQLFY2"
   },
   "source": [
    "The Google BigQuery UI provides access to Google's extensive collection of public data sets via an SQL-based query engine. \n",
    "\n",
    "The BigQuery API provides programmatic access to the data sets.\n",
    "\n",
    "We can use the UI to discover interesting data before writing Python code to access it. Then we can reproduce it in an API request so as to aggregate large amounts of data on Google's infrastructure before pulling the results into our application."
   ]
  },
  {
   "cell_type": "markdown",
   "metadata": {
    "id": "q3JonnfULFY6"
   },
   "source": [
    "## BigQuery Web UI\n",
    "\n",
    "Work through the Quickstart at https://cloud.google.com/bigquery/docs/quickstarts/quickstart-web-ui.\n",
    "\n",
    "You will need to set up a Google Cloud Platform account if you don't already have one. (This should not cost anything during the trial period unless you perform a large amount of querying. Afterwards, costs are based on actual resource usage, but most offerings have a free tier.)"
   ]
  },
  {
   "cell_type": "markdown",
   "metadata": {
    "id": "QM5QOIBpLFY9"
   },
   "source": [
    "## BigQuery API\n",
    "\n",
    "You should already have the Google Cloud Client Library for Python installed (https://cloud.google.com/python/setup).\n",
    "\n",
    "- Open Google Cloud Console (https://console.cloud.google.com/home/) and select to create a project.\n",
    "\n",
    "- Under \"Getting Started\", select \"Enable APIs and get credentials such as keys\"."
   ]
  },
  {
   "cell_type": "markdown",
   "metadata": {
    "id": "0Ni9g5D7LFY_"
   },
   "source": [
    "- In the API table, make sure the BigQuery API is enabled. Page back."
   ]
  },
  {
   "cell_type": "markdown",
   "metadata": {
    "id": "FYjui9nrLFZC"
   },
   "source": [
    "### Authentication\n",
    "\n",
    "Go to https://cloud.google.com/iam/docs/creating-managing-service-account-keys and follow the instructions under \"Create a service account key\" to create a service account."
   ]
  },
  {
   "cell_type": "markdown",
   "metadata": {
    "id": "OYryTo8SLFZE"
   },
   "source": [
    "- Fill out the form, giving the account an appropriate name, and choose \"Project Owner\" for Account Type.\n",
    "\n",
    "- Click \"Create\"."
   ]
  },
  {
   "cell_type": "markdown",
   "metadata": {
    "id": "lUx6uvpALFZF"
   },
   "source": [
    "- The keys will get saved to your computer.\n",
    "\n",
    "- Note the location and copy the file path (of the json file) to somewhere safe, for future reference."
   ]
  },
  {
   "cell_type": "markdown",
   "metadata": {
    "id": "DnYr6eJ-LFZH"
   },
   "source": [
    "- See here for more information:\n",
    "\n",
    "https://cloud.google.com/iam/docs/understanding-service-accounts?&_ga=2.173177830.-495703703.1532572448#managing_service_account_keys "
   ]
  },
  {
   "cell_type": "markdown",
   "metadata": {
    "id": "pQKOrjk8LFZI"
   },
   "source": [
    "This is supposed to get implicit key retrieval working:\n",
    "\n",
    "- Windows:\n",
    "    `set GOOGLE_APPLICATION_CREDENTIALS=[PATH]`\n",
    "    \n",
    "- Linux, MacOS:\n",
    "    `export GOOGLE_APPLICATION_CREDENTIALS=[PATH]`\n",
    "    \n",
    "where `[PATH]` is the full file path of your json key file."
   ]
  },
  {
   "cell_type": "markdown",
   "metadata": {
    "id": "5pvHgwVcLFZJ"
   },
   "source": [
    "### Using the Python API\n",
    "\n",
    "Google provides Python libraries for wrapping the Google APIs. \n",
    "\n",
    "__(Installing the \"google-cloud-storage\" and \"google-cloud-bigquery\" libraries should cover all the dependencies for this lab.)__ "
   ]
  },
  {
   "cell_type": "code",
   "execution_count": 1,
   "metadata": {
    "id": "-CFdsY-N6zeO"
   },
   "outputs": [],
   "source": [
    "!pip install -q google-cloud-storage"
   ]
  },
  {
   "cell_type": "code",
   "execution_count": 2,
   "metadata": {
    "id": "Exi8RHoh65Ic"
   },
   "outputs": [],
   "source": [
    "!pip install -q google-cloud-bigquery"
   ]
  },
  {
   "cell_type": "code",
   "execution_count": 3,
   "metadata": {
    "id": "0o5eABcXLFZL"
   },
   "outputs": [],
   "source": [
    "from google.cloud import bigquery\n",
    "from google.cloud.bigquery import Dataset\n",
    "from google.cloud import storage"
   ]
  },
  {
   "cell_type": "markdown",
   "metadata": {
    "id": "hHZQSxxqLFZR"
   },
   "source": [
    "Invoke a method of the `.Client` object that takes the path to your key files as a string argument:"
   ]
  },
  {
   "cell_type": "code",
   "execution_count": 24,
   "metadata": {
    "id": "8nTBh0TvLFZR"
   },
   "outputs": [],
   "source": [
    "#key_path = '[PATH]'  # put the path to your json key file here \n",
    "#,                    (or write code to load it from a file that your notebook can easily find)\n",
    "key_path = '/Users/abhinayr/Documents/creds/gcred.json'"
   ]
  },
  {
   "cell_type": "markdown",
   "metadata": {
    "id": "0XKIHVy8LFZT"
   },
   "source": [
    "This should not throw an error if key retrieval / assignment worked:"
   ]
  },
  {
   "cell_type": "code",
   "execution_count": 5,
   "metadata": {
    "id": "gfqDJPU9LFZT"
   },
   "outputs": [],
   "source": [
    "storage_client = storage.Client.from_service_account_json(key_path)"
   ]
  },
  {
   "cell_type": "markdown",
   "metadata": {
    "id": "Z1sntjgJLFZU"
   },
   "source": [
    "*Nb. The `storage` object was used in the above example, but there are other objects of interest that have polymorphic `Client` members that are used similarly, such as `bigquery`, which is used below.*"
   ]
  },
  {
   "cell_type": "markdown",
   "metadata": {
    "id": "zSA3wp7NLFZX"
   },
   "source": [
    "Next, execute this:"
   ]
  },
  {
   "cell_type": "code",
   "execution_count": 6,
   "metadata": {
    "id": "ljcqTlxXLFZX"
   },
   "outputs": [],
   "source": [
    "client = bigquery.Client.from_service_account_json(key_path)"
   ]
  },
  {
   "cell_type": "markdown",
   "metadata": {
    "id": "kS1b8GXYLFZY"
   },
   "source": [
    "This client is associated with the default project (which was set or defaulted in the BigQuery UI): "
   ]
  },
  {
   "cell_type": "code",
   "execution_count": 7,
   "metadata": {
    "id": "LflN4IlzLFZY"
   },
   "outputs": [
    {
     "data": {
      "text/plain": [
       "'shaped-network-399821'"
      ]
     },
     "execution_count": 7,
     "metadata": {},
     "output_type": "execute_result"
    }
   ],
   "source": [
    "client.project"
   ]
  },
  {
   "cell_type": "markdown",
   "metadata": {
    "id": "BXQNVF1XLFZb"
   },
   "source": [
    "A BigQuery project contains datasets. Datasets contain tables. To get at the data in a table we need to create a reference that covers this hierarchy; in the `bigquery` library this looks like `project.dataset.table`.  \n",
    "\n",
    "(Nb. Queries can be performed on projects and datasets, but most queries are performed on tables.)"
   ]
  },
  {
   "cell_type": "markdown",
   "metadata": {
    "id": "fOtLSyBdLFZb"
   },
   "source": [
    "To explore the public datasets we will start by reassigning our `client` variable using optional `project` parameter (set to `bigquery-public-data`):"
   ]
  },
  {
   "cell_type": "code",
   "execution_count": 8,
   "metadata": {
    "id": "SQTQ24whLFZc"
   },
   "outputs": [
    {
     "name": "stdout",
     "output_type": "stream",
     "text": [
      "bigquery-public-data\n"
     ]
    }
   ],
   "source": [
    "#project = 'bigquery-public-data'\n",
    "client = bigquery.Client.from_service_account_json(key_path, project = 'bigquery-public-data')\n",
    "print(client.project)"
   ]
  },
  {
   "cell_type": "markdown",
   "metadata": {
    "id": "ZonWy10xLFZe"
   },
   "source": [
    "Here is how to get a list of the datasets in the current project:"
   ]
  },
  {
   "cell_type": "code",
   "execution_count": 9,
   "metadata": {
    "id": "yQan0v1vLFZe"
   },
   "outputs": [
    {
     "name": "stdout",
     "output_type": "stream",
     "text": [
      "[<google.cloud.bigquery.dataset.DatasetListItem object at 0x11fd64250>, <google.cloud.bigquery.dataset.DatasetListItem object at 0x11fd66b50>, <google.cloud.bigquery.dataset.DatasetListItem object at 0x11fd67b90>, <google.cloud.bigquery.dataset.DatasetListItem object at 0x11fd67350>, <google.cloud.bigquery.dataset.DatasetListItem object at 0x11fd66f90>, <google.cloud.bigquery.dataset.DatasetListItem object at 0x1062e7650>, <google.cloud.bigquery.dataset.DatasetListItem object at 0x11fd75150>, <google.cloud.bigquery.dataset.DatasetListItem object at 0x11fd74950>, <google.cloud.bigquery.dataset.DatasetListItem object at 0x11fd75fd0>, <google.cloud.bigquery.dataset.DatasetListItem object at 0x11fd57810>, <google.cloud.bigquery.dataset.DatasetListItem object at 0x11fd774d0>, <google.cloud.bigquery.dataset.DatasetListItem object at 0x11fd77390>, <google.cloud.bigquery.dataset.DatasetListItem object at 0x11fd75090>, <google.cloud.bigquery.dataset.DatasetListItem object at 0x11fd77fd0>, <google.cloud.bigquery.dataset.DatasetListItem object at 0x11fd77450>, <google.cloud.bigquery.dataset.DatasetListItem object at 0x11fd773d0>, <google.cloud.bigquery.dataset.DatasetListItem object at 0x11fd88390>, <google.cloud.bigquery.dataset.DatasetListItem object at 0x11fd882d0>, <google.cloud.bigquery.dataset.DatasetListItem object at 0x11fd883d0>, <google.cloud.bigquery.dataset.DatasetListItem object at 0x11fd88090>, <google.cloud.bigquery.dataset.DatasetListItem object at 0x11fd8a0d0>, <google.cloud.bigquery.dataset.DatasetListItem object at 0x11fd88250>, <google.cloud.bigquery.dataset.DatasetListItem object at 0x11fd89810>, <google.cloud.bigquery.dataset.DatasetListItem object at 0x11fd89a10>, <google.cloud.bigquery.dataset.DatasetListItem object at 0x11fd897d0>, <google.cloud.bigquery.dataset.DatasetListItem object at 0x11fd898d0>, <google.cloud.bigquery.dataset.DatasetListItem object at 0x11fd89710>, <google.cloud.bigquery.dataset.DatasetListItem object at 0x11fd896d0>, <google.cloud.bigquery.dataset.DatasetListItem object at 0x11fd89750>, <google.cloud.bigquery.dataset.DatasetListItem object at 0x11fd89910>, <google.cloud.bigquery.dataset.DatasetListItem object at 0x11fd89890>, <google.cloud.bigquery.dataset.DatasetListItem object at 0x11fd88290>, <google.cloud.bigquery.dataset.DatasetListItem object at 0x11fd89a90>, <google.cloud.bigquery.dataset.DatasetListItem object at 0x11fd8a050>, <google.cloud.bigquery.dataset.DatasetListItem object at 0x11fd88210>, <google.cloud.bigquery.dataset.DatasetListItem object at 0x11fd89510>, <google.cloud.bigquery.dataset.DatasetListItem object at 0x11fd89b50>, <google.cloud.bigquery.dataset.DatasetListItem object at 0x11fd89b90>, <google.cloud.bigquery.dataset.DatasetListItem object at 0x11fd89610>, <google.cloud.bigquery.dataset.DatasetListItem object at 0x11fd89650>, <google.cloud.bigquery.dataset.DatasetListItem object at 0x11fd95010>, <google.cloud.bigquery.dataset.DatasetListItem object at 0x11fd95050>, <google.cloud.bigquery.dataset.DatasetListItem object at 0x11fd95090>, <google.cloud.bigquery.dataset.DatasetListItem object at 0x11fd950d0>, <google.cloud.bigquery.dataset.DatasetListItem object at 0x11fd95110>, <google.cloud.bigquery.dataset.DatasetListItem object at 0x11fd95150>, <google.cloud.bigquery.dataset.DatasetListItem object at 0x11fd95190>, <google.cloud.bigquery.dataset.DatasetListItem object at 0x11fd951d0>, <google.cloud.bigquery.dataset.DatasetListItem object at 0x11fd95210>, <google.cloud.bigquery.dataset.DatasetListItem object at 0x11fd95250>, <google.cloud.bigquery.dataset.DatasetListItem object at 0x11fd57890>, <google.cloud.bigquery.dataset.DatasetListItem object at 0x11fd75050>, <google.cloud.bigquery.dataset.DatasetListItem object at 0x11fd66cd0>, <google.cloud.bigquery.dataset.DatasetListItem object at 0x11fae7f90>, <google.cloud.bigquery.dataset.DatasetListItem object at 0x1183f2410>, <google.cloud.bigquery.dataset.DatasetListItem object at 0x11fd89e10>, <google.cloud.bigquery.dataset.DatasetListItem object at 0x11fd89f10>, <google.cloud.bigquery.dataset.DatasetListItem object at 0x11fd89e90>, <google.cloud.bigquery.dataset.DatasetListItem object at 0x11fd89cd0>, <google.cloud.bigquery.dataset.DatasetListItem object at 0x11fd89e50>, <google.cloud.bigquery.dataset.DatasetListItem object at 0x11fd89ad0>, <google.cloud.bigquery.dataset.DatasetListItem object at 0x11fd89d10>, <google.cloud.bigquery.dataset.DatasetListItem object at 0x11fd89d90>, <google.cloud.bigquery.dataset.DatasetListItem object at 0x11fd89c50>, <google.cloud.bigquery.dataset.DatasetListItem object at 0x11fd89d50>, <google.cloud.bigquery.dataset.DatasetListItem object at 0x11fd89c90>, <google.cloud.bigquery.dataset.DatasetListItem object at 0x11fd89850>, <google.cloud.bigquery.dataset.DatasetListItem object at 0x11fd89b10>, <google.cloud.bigquery.dataset.DatasetListItem object at 0x11fd89ed0>, <google.cloud.bigquery.dataset.DatasetListItem object at 0x11fd95290>, <google.cloud.bigquery.dataset.DatasetListItem object at 0x11fd952d0>, <google.cloud.bigquery.dataset.DatasetListItem object at 0x11fd95310>, <google.cloud.bigquery.dataset.DatasetListItem object at 0x11fd95410>, <google.cloud.bigquery.dataset.DatasetListItem object at 0x11fd95350>, <google.cloud.bigquery.dataset.DatasetListItem object at 0x11fd95390>, <google.cloud.bigquery.dataset.DatasetListItem object at 0x11fd95910>, <google.cloud.bigquery.dataset.DatasetListItem object at 0x11fd95850>, <google.cloud.bigquery.dataset.DatasetListItem object at 0x11fd95750>, <google.cloud.bigquery.dataset.DatasetListItem object at 0x11fd957d0>, <google.cloud.bigquery.dataset.DatasetListItem object at 0x11fd95790>, <google.cloud.bigquery.dataset.DatasetListItem object at 0x11fd95d90>, <google.cloud.bigquery.dataset.DatasetListItem object at 0x11fd95e90>, <google.cloud.bigquery.dataset.DatasetListItem object at 0x11fd95e50>, <google.cloud.bigquery.dataset.DatasetListItem object at 0x11fd95e10>, <google.cloud.bigquery.dataset.DatasetListItem object at 0x11fd95d10>, <google.cloud.bigquery.dataset.DatasetListItem object at 0x11fd95dd0>, <google.cloud.bigquery.dataset.DatasetListItem object at 0x11fd96950>, <google.cloud.bigquery.dataset.DatasetListItem object at 0x11fd95f90>, <google.cloud.bigquery.dataset.DatasetListItem object at 0x11fd968d0>, <google.cloud.bigquery.dataset.DatasetListItem object at 0x11fd96250>, <google.cloud.bigquery.dataset.DatasetListItem object at 0x11fd961d0>, <google.cloud.bigquery.dataset.DatasetListItem object at 0x11fd96310>, <google.cloud.bigquery.dataset.DatasetListItem object at 0x11fd96350>, <google.cloud.bigquery.dataset.DatasetListItem object at 0x11fd96390>, <google.cloud.bigquery.dataset.DatasetListItem object at 0x11fd963d0>, <google.cloud.bigquery.dataset.DatasetListItem object at 0x11fd960d0>, <google.cloud.bigquery.dataset.DatasetListItem object at 0x11fda14d0>, <google.cloud.bigquery.dataset.DatasetListItem object at 0x11fda1510>, <google.cloud.bigquery.dataset.DatasetListItem object at 0x11fda1550>, <google.cloud.bigquery.dataset.DatasetListItem object at 0x11fda1590>, <google.cloud.bigquery.dataset.DatasetListItem object at 0x11fd77490>, <google.cloud.bigquery.dataset.DatasetListItem object at 0x11fd74750>, <google.cloud.bigquery.dataset.DatasetListItem object at 0x11fd89490>, <google.cloud.bigquery.dataset.DatasetListItem object at 0x11fd89dd0>, <google.cloud.bigquery.dataset.DatasetListItem object at 0x11fd954d0>, <google.cloud.bigquery.dataset.DatasetListItem object at 0x11fd96450>, <google.cloud.bigquery.dataset.DatasetListItem object at 0x11fd96750>, <google.cloud.bigquery.dataset.DatasetListItem object at 0x11fd96690>, <google.cloud.bigquery.dataset.DatasetListItem object at 0x11fd95c50>, <google.cloud.bigquery.dataset.DatasetListItem object at 0x11fd96510>, <google.cloud.bigquery.dataset.DatasetListItem object at 0x11fd96590>, <google.cloud.bigquery.dataset.DatasetListItem object at 0x11fd95a90>, <google.cloud.bigquery.dataset.DatasetListItem object at 0x11fd965d0>, <google.cloud.bigquery.dataset.DatasetListItem object at 0x11fd96650>, <google.cloud.bigquery.dataset.DatasetListItem object at 0x11fd96610>, <google.cloud.bigquery.dataset.DatasetListItem object at 0x11fd96410>, <google.cloud.bigquery.dataset.DatasetListItem object at 0x11fd95650>, <google.cloud.bigquery.dataset.DatasetListItem object at 0x11fd96210>, <google.cloud.bigquery.dataset.DatasetListItem object at 0x11fd96550>, <google.cloud.bigquery.dataset.DatasetListItem object at 0x11fda15d0>, <google.cloud.bigquery.dataset.DatasetListItem object at 0x11fda1610>, <google.cloud.bigquery.dataset.DatasetListItem object at 0x11fda1650>, <google.cloud.bigquery.dataset.DatasetListItem object at 0x11fda1750>, <google.cloud.bigquery.dataset.DatasetListItem object at 0x11fda1690>, <google.cloud.bigquery.dataset.DatasetListItem object at 0x11fda16d0>, <google.cloud.bigquery.dataset.DatasetListItem object at 0x11fda1b90>, <google.cloud.bigquery.dataset.DatasetListItem object at 0x11fda18d0>, <google.cloud.bigquery.dataset.DatasetListItem object at 0x11fda1a50>, <google.cloud.bigquery.dataset.DatasetListItem object at 0x11fda1ad0>, <google.cloud.bigquery.dataset.DatasetListItem object at 0x11fda1a90>, <google.cloud.bigquery.dataset.DatasetListItem object at 0x11fda1f50>, <google.cloud.bigquery.dataset.DatasetListItem object at 0x11fda2010>, <google.cloud.bigquery.dataset.DatasetListItem object at 0x11fda1fd0>, <google.cloud.bigquery.dataset.DatasetListItem object at 0x11fda1ed0>, <google.cloud.bigquery.dataset.DatasetListItem object at 0x11fda1d50>, <google.cloud.bigquery.dataset.DatasetListItem object at 0x11fda1b50>, <google.cloud.bigquery.dataset.DatasetListItem object at 0x11fda2810>, <google.cloud.bigquery.dataset.DatasetListItem object at 0x11fda1950>, <google.cloud.bigquery.dataset.DatasetListItem object at 0x11fda2790>, <google.cloud.bigquery.dataset.DatasetListItem object at 0x11fda2310>, <google.cloud.bigquery.dataset.DatasetListItem object at 0x11fda22d0>, <google.cloud.bigquery.dataset.DatasetListItem object at 0x11fda2190>, <google.cloud.bigquery.dataset.DatasetListItem object at 0x11fda2210>, <google.cloud.bigquery.dataset.DatasetListItem object at 0x11fda2250>, <google.cloud.bigquery.dataset.DatasetListItem object at 0x11fda2290>, <google.cloud.bigquery.dataset.DatasetListItem object at 0x11fda2110>, <google.cloud.bigquery.dataset.DatasetListItem object at 0x11fda8e10>, <google.cloud.bigquery.dataset.DatasetListItem object at 0x11fda8e50>, <google.cloud.bigquery.dataset.DatasetListItem object at 0x11fda8e90>, <google.cloud.bigquery.dataset.DatasetListItem object at 0x11fda8ed0>, <google.cloud.bigquery.dataset.DatasetListItem object at 0x11fd89f90>, <google.cloud.bigquery.dataset.DatasetListItem object at 0x11fd89590>, <google.cloud.bigquery.dataset.DatasetListItem object at 0x11fd8a010>, <google.cloud.bigquery.dataset.DatasetListItem object at 0x11fd95cd0>, <google.cloud.bigquery.dataset.DatasetListItem object at 0x11fd96850>, <google.cloud.bigquery.dataset.DatasetListItem object at 0x11fd967d0>, <google.cloud.bigquery.dataset.DatasetListItem object at 0x11fd96890>, <google.cloud.bigquery.dataset.DatasetListItem object at 0x11fda17d0>, <google.cloud.bigquery.dataset.DatasetListItem object at 0x11fda1810>, <google.cloud.bigquery.dataset.DatasetListItem object at 0x11fda2490>, <google.cloud.bigquery.dataset.DatasetListItem object at 0x11fda23d0>, <google.cloud.bigquery.dataset.DatasetListItem object at 0x11fda24d0>, <google.cloud.bigquery.dataset.DatasetListItem object at 0x11fda2590>, <google.cloud.bigquery.dataset.DatasetListItem object at 0x11fda25d0>, <google.cloud.bigquery.dataset.DatasetListItem object at 0x11fda2390>, <google.cloud.bigquery.dataset.DatasetListItem object at 0x11fda2350>, <google.cloud.bigquery.dataset.DatasetListItem object at 0x11fda2150>, <google.cloud.bigquery.dataset.DatasetListItem object at 0x11fda1c50>, <google.cloud.bigquery.dataset.DatasetListItem object at 0x11fda2510>, <google.cloud.bigquery.dataset.DatasetListItem object at 0x11fda8f10>, <google.cloud.bigquery.dataset.DatasetListItem object at 0x11fda8f50>, <google.cloud.bigquery.dataset.DatasetListItem object at 0x11fda8f90>, <google.cloud.bigquery.dataset.DatasetListItem object at 0x11fda9090>, <google.cloud.bigquery.dataset.DatasetListItem object at 0x11fda8fd0>, <google.cloud.bigquery.dataset.DatasetListItem object at 0x11fda9010>, <google.cloud.bigquery.dataset.DatasetListItem object at 0x11fda94d0>, <google.cloud.bigquery.dataset.DatasetListItem object at 0x11fda9210>, <google.cloud.bigquery.dataset.DatasetListItem object at 0x11fda9390>, <google.cloud.bigquery.dataset.DatasetListItem object at 0x11fda9410>, <google.cloud.bigquery.dataset.DatasetListItem object at 0x11fda93d0>, <google.cloud.bigquery.dataset.DatasetListItem object at 0x11fda9890>, <google.cloud.bigquery.dataset.DatasetListItem object at 0x11fda9950>, <google.cloud.bigquery.dataset.DatasetListItem object at 0x11fda9910>, <google.cloud.bigquery.dataset.DatasetListItem object at 0x11fda9810>, <google.cloud.bigquery.dataset.DatasetListItem object at 0x11fda9690>, <google.cloud.bigquery.dataset.DatasetListItem object at 0x11fda9490>, <google.cloud.bigquery.dataset.DatasetListItem object at 0x11fdaa150>, <google.cloud.bigquery.dataset.DatasetListItem object at 0x11fda9290>, <google.cloud.bigquery.dataset.DatasetListItem object at 0x11fdaa0d0>, <google.cloud.bigquery.dataset.DatasetListItem object at 0x11fda9c50>, <google.cloud.bigquery.dataset.DatasetListItem object at 0x11fda9c10>, <google.cloud.bigquery.dataset.DatasetListItem object at 0x11fda9ad0>, <google.cloud.bigquery.dataset.DatasetListItem object at 0x11fda9b50>, <google.cloud.bigquery.dataset.DatasetListItem object at 0x11fda9b90>, <google.cloud.bigquery.dataset.DatasetListItem object at 0x11fda9bd0>, <google.cloud.bigquery.dataset.DatasetListItem object at 0x11fda9a50>, <google.cloud.bigquery.dataset.DatasetListItem object at 0x11fdb8990>, <google.cloud.bigquery.dataset.DatasetListItem object at 0x11fdb89d0>, <google.cloud.bigquery.dataset.DatasetListItem object at 0x11fdb8a10>, <google.cloud.bigquery.dataset.DatasetListItem object at 0x11fdb8a50>, <google.cloud.bigquery.dataset.DatasetListItem object at 0x11fd96810>, <google.cloud.bigquery.dataset.DatasetListItem object at 0x11fd95f50>, <google.cloud.bigquery.dataset.DatasetListItem object at 0x11fda9110>, <google.cloud.bigquery.dataset.DatasetListItem object at 0x11fda9150>, <google.cloud.bigquery.dataset.DatasetListItem object at 0x11fda9d90>, <google.cloud.bigquery.dataset.DatasetListItem object at 0x11fda9f90>, <google.cloud.bigquery.dataset.DatasetListItem object at 0x11fda9dd0>, <google.cloud.bigquery.dataset.DatasetListItem object at 0x11fda9e50>, <google.cloud.bigquery.dataset.DatasetListItem object at 0x11fda9e90>, <google.cloud.bigquery.dataset.DatasetListItem object at 0x11fda9ed0>, <google.cloud.bigquery.dataset.DatasetListItem object at 0x11fda9c90>, <google.cloud.bigquery.dataset.DatasetListItem object at 0x11fda9a90>, <google.cloud.bigquery.dataset.DatasetListItem object at 0x11fda9590>, <google.cloud.bigquery.dataset.DatasetListItem object at 0x11fda20d0>, <google.cloud.bigquery.dataset.DatasetListItem object at 0x11fda2550>, <google.cloud.bigquery.dataset.DatasetListItem object at 0x11fda26d0>, <google.cloud.bigquery.dataset.DatasetListItem object at 0x11fda2750>, <google.cloud.bigquery.dataset.DatasetListItem object at 0x11fda2610>, <google.cloud.bigquery.dataset.DatasetListItem object at 0x11fdb8a90>, <google.cloud.bigquery.dataset.DatasetListItem object at 0x11fdb8ad0>, <google.cloud.bigquery.dataset.DatasetListItem object at 0x11fdb8b10>, <google.cloud.bigquery.dataset.DatasetListItem object at 0x11fdb8c10>, <google.cloud.bigquery.dataset.DatasetListItem object at 0x11fdb8b50>, <google.cloud.bigquery.dataset.DatasetListItem object at 0x11fdb8b90>, <google.cloud.bigquery.dataset.DatasetListItem object at 0x11fdb9050>, <google.cloud.bigquery.dataset.DatasetListItem object at 0x11fdb8d90>, <google.cloud.bigquery.dataset.DatasetListItem object at 0x11fdb8f10>, <google.cloud.bigquery.dataset.DatasetListItem object at 0x11fdb8f90>, <google.cloud.bigquery.dataset.DatasetListItem object at 0x11fdb8f50>, <google.cloud.bigquery.dataset.DatasetListItem object at 0x11fdb9410>, <google.cloud.bigquery.dataset.DatasetListItem object at 0x11fdb94d0>, <google.cloud.bigquery.dataset.DatasetListItem object at 0x11fdb9490>, <google.cloud.bigquery.dataset.DatasetListItem object at 0x11fdb9390>, <google.cloud.bigquery.dataset.DatasetListItem object at 0x11fdb9210>, <google.cloud.bigquery.dataset.DatasetListItem object at 0x11fdb9010>, <google.cloud.bigquery.dataset.DatasetListItem object at 0x11fdb9d10>, <google.cloud.bigquery.dataset.DatasetListItem object at 0x11fdb8e10>, <google.cloud.bigquery.dataset.DatasetListItem object at 0x11fdb8ed0>, <google.cloud.bigquery.dataset.DatasetListItem object at 0x11fdb9c90>, <google.cloud.bigquery.dataset.DatasetListItem object at 0x11fdb9c50>, <google.cloud.bigquery.dataset.DatasetListItem object at 0x11fdb9750>, <google.cloud.bigquery.dataset.DatasetListItem object at 0x11fdb97d0>, <google.cloud.bigquery.dataset.DatasetListItem object at 0x11fdb9650>, <google.cloud.bigquery.dataset.DatasetListItem object at 0x11fdb96d0>, <google.cloud.bigquery.dataset.DatasetListItem object at 0x11fdb9710>, <google.cloud.bigquery.dataset.DatasetListItem object at 0x11fdb9790>, <google.cloud.bigquery.dataset.DatasetListItem object at 0x11fdc8690>, <google.cloud.bigquery.dataset.DatasetListItem object at 0x11fdc86d0>, <google.cloud.bigquery.dataset.DatasetListItem object at 0x11fdc8710>, <google.cloud.bigquery.dataset.DatasetListItem object at 0x11fdc8750>, <google.cloud.bigquery.dataset.DatasetListItem object at 0x11fd96710>, <google.cloud.bigquery.dataset.DatasetListItem object at 0x11fd89bd0>, <google.cloud.bigquery.dataset.DatasetListItem object at 0x11fdb8c50>, <google.cloud.bigquery.dataset.DatasetListItem object at 0x11fdb8c90>, <google.cloud.bigquery.dataset.DatasetListItem object at 0x11fdb8cd0>, <google.cloud.bigquery.dataset.DatasetListItem object at 0x11fdb9910>, <google.cloud.bigquery.dataset.DatasetListItem object at 0x11fdb9b10>, <google.cloud.bigquery.dataset.DatasetListItem object at 0x11fdb9950>, <google.cloud.bigquery.dataset.DatasetListItem object at 0x11fdb99d0>, <google.cloud.bigquery.dataset.DatasetListItem object at 0x11fdb9a10>, <google.cloud.bigquery.dataset.DatasetListItem object at 0x11fdb9a50>, <google.cloud.bigquery.dataset.DatasetListItem object at 0x11fdb9810>, <google.cloud.bigquery.dataset.DatasetListItem object at 0x11fdb9610>, <google.cloud.bigquery.dataset.DatasetListItem object at 0x11fdb9110>, <google.cloud.bigquery.dataset.DatasetListItem object at 0x11fda9a10>, <google.cloud.bigquery.dataset.DatasetListItem object at 0x11fda9e10>, <google.cloud.bigquery.dataset.DatasetListItem object at 0x11fdaa050>, <google.cloud.bigquery.dataset.DatasetListItem object at 0x11fdaa090>, <google.cloud.bigquery.dataset.DatasetListItem object at 0x11fda9fd0>, <google.cloud.bigquery.dataset.DatasetListItem object at 0x11fdc8790>, <google.cloud.bigquery.dataset.DatasetListItem object at 0x11fdc87d0>, <google.cloud.bigquery.dataset.DatasetListItem object at 0x11fdc8810>, <google.cloud.bigquery.dataset.DatasetListItem object at 0x11fdc8910>, <google.cloud.bigquery.dataset.DatasetListItem object at 0x11fdc8850>, <google.cloud.bigquery.dataset.DatasetListItem object at 0x11fdc8890>, <google.cloud.bigquery.dataset.DatasetListItem object at 0x11fdc8d50>, <google.cloud.bigquery.dataset.DatasetListItem object at 0x11fdc8a90>, <google.cloud.bigquery.dataset.DatasetListItem object at 0x11fdc8c10>, <google.cloud.bigquery.dataset.DatasetListItem object at 0x11fdc8c90>, <google.cloud.bigquery.dataset.DatasetListItem object at 0x11fdc8c50>, <google.cloud.bigquery.dataset.DatasetListItem object at 0x11fdc9110>, <google.cloud.bigquery.dataset.DatasetListItem object at 0x11fdc91d0>, <google.cloud.bigquery.dataset.DatasetListItem object at 0x11fdc9190>, <google.cloud.bigquery.dataset.DatasetListItem object at 0x11fdc9090>, <google.cloud.bigquery.dataset.DatasetListItem object at 0x11fdc8f10>, <google.cloud.bigquery.dataset.DatasetListItem object at 0x11fdc8d10>, <google.cloud.bigquery.dataset.DatasetListItem object at 0x11fdc9a10>, <google.cloud.bigquery.dataset.DatasetListItem object at 0x11fdc8b10>, <google.cloud.bigquery.dataset.DatasetListItem object at 0x11fdc8bd0>, <google.cloud.bigquery.dataset.DatasetListItem object at 0x11fdc9990>, <google.cloud.bigquery.dataset.DatasetListItem object at 0x11fdc9950>, <google.cloud.bigquery.dataset.DatasetListItem object at 0x11fdc9450>, <google.cloud.bigquery.dataset.DatasetListItem object at 0x11fdc94d0>, <google.cloud.bigquery.dataset.DatasetListItem object at 0x11fdc9350>, <google.cloud.bigquery.dataset.DatasetListItem object at 0x11fdc93d0>, <google.cloud.bigquery.dataset.DatasetListItem object at 0x11fdc9410>, <google.cloud.bigquery.dataset.DatasetListItem object at 0x11fdc9490>, <google.cloud.bigquery.dataset.DatasetListItem object at 0x11fdd4310>, <google.cloud.bigquery.dataset.DatasetListItem object at 0x11fdd4350>, <google.cloud.bigquery.dataset.DatasetListItem object at 0x11fdd4390>, <google.cloud.bigquery.dataset.DatasetListItem object at 0x11fd95ad0>, <google.cloud.bigquery.dataset.DatasetListItem object at 0x11fda2650>, <google.cloud.bigquery.dataset.DatasetListItem object at 0x11fdc8990>, <google.cloud.bigquery.dataset.DatasetListItem object at 0x11fdc89d0>, <google.cloud.bigquery.dataset.DatasetListItem object at 0x11fdc9610>, <google.cloud.bigquery.dataset.DatasetListItem object at 0x11fdc9810>, <google.cloud.bigquery.dataset.DatasetListItem object at 0x11fdc9650>, <google.cloud.bigquery.dataset.DatasetListItem object at 0x11fdc96d0>, <google.cloud.bigquery.dataset.DatasetListItem object at 0x11fdc9710>, <google.cloud.bigquery.dataset.DatasetListItem object at 0x11fdc9750>, <google.cloud.bigquery.dataset.DatasetListItem object at 0x11fdc9510>, <google.cloud.bigquery.dataset.DatasetListItem object at 0x11fdc9310>, <google.cloud.bigquery.dataset.DatasetListItem object at 0x11fdc8e10>]\n"
     ]
    }
   ],
   "source": [
    "datasets = list(client.list_datasets())\n",
    "print(datasets)"
   ]
  },
  {
   "cell_type": "markdown",
   "metadata": {
    "id": "_UoYS4suLFZg"
   },
   "source": [
    "That wasn't helpful. We need to go deeper into the object structure to get at something meaningful. Actually, the `dataset_id` member contains the name attribute of a `dataset` object; write some code to print that name for each member of the list that was created above:"
   ]
  },
  {
   "cell_type": "code",
   "execution_count": null,
   "metadata": {
    "id": "MBV3-c21LFZi"
   },
   "outputs": [],
   "source": [
    "#?"
   ]
  },
  {
   "cell_type": "markdown",
   "metadata": {
    "id": "1VKuobUSLFZk"
   },
   "source": [
    "The google API objects in the `bigquery` library have their own overloads of the format() function that make them easier to read. Below is a function that exploits the `format` method of `project` and `dataset_id`, providing an easy way to list datasets:"
   ]
  },
  {
   "cell_type": "code",
   "execution_count": 10,
   "metadata": {
    "id": "obqd0X0vLFZl"
   },
   "outputs": [],
   "source": [
    "# function for listing datasets in a project:\n",
    "def printDatasetList(client):\n",
    "    project = client.project    #: only one project can be associated with a client instance\n",
    "    datasets = list(client.list_datasets())\n",
    "    if datasets:\n",
    "        print('Datasets in project {}:'.format(project))\n",
    "        for dataset in datasets:  \n",
    "            print('\\t{}'.format(dataset.dataset_id))\n",
    "        found = True\n",
    "    else:\n",
    "        print('{} project does not contain any datasets.'.format(project))\n",
    "        found = False\n",
    "    return found"
   ]
  },
  {
   "cell_type": "code",
   "execution_count": 11,
   "metadata": {
    "id": "TcS8DXenLFZn"
   },
   "outputs": [
    {
     "name": "stdout",
     "output_type": "stream",
     "text": [
      "Datasets in project bigquery-public-data:\n",
      "\tamerica_health_rankings\n",
      "\taustin_311\n",
      "\taustin_bikeshare\n",
      "\taustin_crime\n",
      "\taustin_incidents\n",
      "\taustin_waste\n",
      "\tbaseball\n",
      "\tbbc_news\n",
      "\tbigqueryml_ncaa\n",
      "\tbitcoin_blockchain\n",
      "\tblackhole_database\n",
      "\tblockchain_analytics_ethereum_mainnet_us\n",
      "\tbls\n",
      "\tbls_qcew\n",
      "\tbreathe\n",
      "\tbroadstreet_adi\n",
      "\tcatalonian_mobile_coverage\n",
      "\tcatalonian_mobile_coverage_eu\n",
      "\tcensus_bureau_acs\n",
      "\tcensus_bureau_construction\n",
      "\tcensus_bureau_international\n",
      "\tcensus_bureau_usa\n",
      "\tcensus_opportunity_atlas\n",
      "\tcensus_utility\n",
      "\tcfpb_complaints\n",
      "\tchicago_crime\n",
      "\tchicago_taxi_trips\n",
      "\tclemson_dice\n",
      "\tcloud_storage_geo_index\n",
      "\tcms_codes\n",
      "\tcms_medicare\n",
      "\tcms_synthetic_patient_data_omop\n",
      "\tcountry_codes\n",
      "\tcovid19_aha\n",
      "\tcovid19_covidtracking\n",
      "\tcovid19_ecdc\n",
      "\tcovid19_ecdc_eu\n",
      "\tcovid19_genome_sequence\n",
      "\tcovid19_geotab_mobility_impact\n",
      "\tcovid19_geotab_mobility_impact_eu\n",
      "\tcovid19_google_mobility\n",
      "\tcovid19_google_mobility_eu\n",
      "\tcovid19_govt_response\n",
      "\tcovid19_italy\n",
      "\tcovid19_italy_eu\n",
      "\tcovid19_jhu_csse\n",
      "\tcovid19_jhu_csse_eu\n",
      "\tcovid19_nyt\n",
      "\tcovid19_open_data\n",
      "\tcovid19_open_data_eu\n",
      "\tcovid19_public_forecasts\n",
      "\tcovid19_public_forecasts_asia_ne1\n",
      "\tcovid19_rxrx19\n",
      "\tcovid19_symptom_search\n",
      "\tcovid19_tracking\n",
      "\tcovid19_usafacts\n",
      "\tcovid19_vaccination_access\n",
      "\tcovid19_vaccination_search_insights\n",
      "\tcovid19_weathersource_com\n",
      "\tcrypto_band\n",
      "\tcrypto_bitcoin\n",
      "\tcrypto_bitcoin_cash\n",
      "\tcrypto_dash\n",
      "\tcrypto_dogecoin\n",
      "\tcrypto_ethereum\n",
      "\tcrypto_ethereum_classic\n",
      "\tcrypto_iotex\n",
      "\tcrypto_kusama\n",
      "\tcrypto_litecoin\n",
      "\tcrypto_near_mainnet_us\n",
      "\tcrypto_polkadot\n",
      "\tcrypto_polygon\n",
      "\tcrypto_tezos\n",
      "\tcrypto_theta\n",
      "\tcrypto_zcash\n",
      "\tcrypto_zilliqa\n",
      "\tcymbal_investments\n",
      "\tdataflix_covid\n",
      "\tdataflix_traffic_safety\n",
      "\tdeepmind_alphafold\n",
      "\tdeps_dev_v1\n",
      "\tdimensions_ai_covid19\n",
      "\tebi_chembl\n",
      "\tebi_surechembl\n",
      "\teclipse_megamovie\n",
      "\tepa_historical_air_quality\n",
      "\tethereum_blockchain\n",
      "\tetsi_technical_standards\n",
      "\tfaa\n",
      "\tfcc_political_ads\n",
      "\tfda_drug\n",
      "\tfda_food\n",
      "\tfdic_banks\n",
      "\tfec\n",
      "\tfhir_synthea\n",
      "\tga4_obfuscated_sample_ecommerce\n",
      "\tgbif\n",
      "\tgdelt_hathitrustbooks\n",
      "\tgdelt_internetarchivebooks\n",
      "\tgenomics_cannabis\n",
      "\tgenomics_rice\n",
      "\tgeo_census_blockgroups\n",
      "\tgeo_census_tracts\n",
      "\tgeo_international_ports\n",
      "\tgeo_openstreetmap\n",
      "\tgeo_us_boundaries\n",
      "\tgeo_us_census_places\n",
      "\tgeo_us_roads\n",
      "\tgeo_whos_on_first\n",
      "\tghcn_d\n",
      "\tghcn_m\n",
      "\tgithub_repos\n",
      "\tgnomAD\n",
      "\tgnomAD_asiane1\n",
      "\tgnomAD_eu\n",
      "\tgoog_blockchain_avalanche_contract_chain_us\n",
      "\tgoog_blockchain_ethereum_mainnet_us\n",
      "\tgoog_blockchain_fantom_opera_us\n",
      "\tgoog_blockchain_optimism_mainnet_us\n",
      "\tgoog_blockchain_tron_mainnet_us\n",
      "\tgoogle_ads\n",
      "\tgoogle_ads_geo_mapping_asia_east1\n",
      "\tgoogle_ads_geo_mapping_asia_east2\n",
      "\tgoogle_ads_geo_mapping_asia_northeast1\n",
      "\tgoogle_ads_geo_mapping_asia_northeast2\n",
      "\tgoogle_ads_geo_mapping_asia_northeast3\n",
      "\tgoogle_ads_geo_mapping_asia_south1\n",
      "\tgoogle_ads_geo_mapping_asia_south2\n",
      "\tgoogle_ads_geo_mapping_asia_southeast1\n",
      "\tgoogle_ads_geo_mapping_asia_southeast2\n",
      "\tgoogle_ads_geo_mapping_australia_southeast1\n",
      "\tgoogle_ads_geo_mapping_australia_southeast2\n",
      "\tgoogle_ads_geo_mapping_eu\n",
      "\tgoogle_ads_geo_mapping_europe_central2\n",
      "\tgoogle_ads_geo_mapping_europe_north1\n",
      "\tgoogle_ads_geo_mapping_europe_southwest1\n",
      "\tgoogle_ads_geo_mapping_europe_west1\n",
      "\tgoogle_ads_geo_mapping_europe_west2\n",
      "\tgoogle_ads_geo_mapping_europe_west3\n",
      "\tgoogle_ads_geo_mapping_europe_west4\n",
      "\tgoogle_ads_geo_mapping_europe_west6\n",
      "\tgoogle_ads_geo_mapping_europe_west8\n",
      "\tgoogle_ads_geo_mapping_europe_west9\n",
      "\tgoogle_ads_geo_mapping_me_west1\n",
      "\tgoogle_ads_geo_mapping_northamerica_northeast1\n",
      "\tgoogle_ads_geo_mapping_northamerica_northeast2\n",
      "\tgoogle_ads_geo_mapping_southamerica_east1\n",
      "\tgoogle_ads_geo_mapping_southamerica_west1\n",
      "\tgoogle_ads_geo_mapping_us\n",
      "\tgoogle_ads_geo_mapping_us_central1\n",
      "\tgoogle_ads_geo_mapping_us_east1\n",
      "\tgoogle_ads_geo_mapping_us_east4\n",
      "\tgoogle_ads_geo_mapping_us_east5\n",
      "\tgoogle_ads_geo_mapping_us_south1\n",
      "\tgoogle_ads_geo_mapping_us_west1\n",
      "\tgoogle_ads_geo_mapping_us_west2\n",
      "\tgoogle_ads_geo_mapping_us_west3\n",
      "\tgoogle_ads_geo_mapping_us_west4\n",
      "\tgoogle_ads_transparency_center\n",
      "\tgoogle_analytics_sample\n",
      "\tgoogle_books_ngrams_2020\n",
      "\tgoogle_cfe\n",
      "\tgoogle_cloud_release_notes\n",
      "\tgoogle_dei\n",
      "\tgoogle_patents_research\n",
      "\tgoogle_political_ads\n",
      "\tgoogle_trends\n",
      "\tgrid_ac\n",
      "\thacker_news\n",
      "\thud_zipcode_crosswalk\n",
      "\thuman_genome_variants\n",
      "\thuman_variant_annotation\n",
      "\tidc_current\n",
      "\tidc_current_clinical\n",
      "\tidc_v1\n",
      "\tidc_v10\n",
      "\tidc_v11\n",
      "\tidc_v11_clinical\n",
      "\tidc_v12\n",
      "\tidc_v12_clinical\n",
      "\tidc_v13\n",
      "\tidc_v13_clinical\n",
      "\tidc_v14\n",
      "\tidc_v14_clinical\n",
      "\tidc_v15\n",
      "\tidc_v15_clinical\n",
      "\tidc_v16\n",
      "\tidc_v16_clinical\n",
      "\tidc_v2\n",
      "\tidc_v3\n",
      "\tidc_v4\n",
      "\tidc_v5\n",
      "\tidc_v6\n",
      "\tidc_v7\n",
      "\tidc_v8\n",
      "\tidc_v9\n",
      "\timdb\n",
      "\timmune_epitope_db\n",
      "\tiowa_liquor_sales\n",
      "\tiowa_liquor_sales_forecasting\n",
      "\tirs_990\n",
      "\tlabeled_patents\n",
      "\tlibraries_io\n",
      "\tlistenbrainz\n",
      "\tlondon_bicycles\n",
      "\tlondon_crime\n",
      "\tlondon_fire_brigade\n",
      "\tmarec\n",
      "\tmedicare\n",
      "\tml_datasets\n",
      "\tml_datasets_uscentral1\n",
      "\tmodis_terra_net_primary_production\n",
      "\tmoon_phases\n",
      "\tmultilingual_spoken_words_corpus\n",
      "\tnasa_wildfire\n",
      "\tncaa_basketball\n",
      "\tnces_ipeds\n",
      "\tnew_york\n",
      "\tnew_york_311\n",
      "\tnew_york_citibike\n",
      "\tnew_york_mv_collisions\n",
      "\tnew_york_subway\n",
      "\tnew_york_taxi_trips\n",
      "\tnew_york_trees\n",
      "\tnhtsa_traffic_fatalities\n",
      "\tnih_gudid\n",
      "\tnih_sequence_read\n",
      "\tnlm_rxnorm\n",
      "\tnoaa_global_forecast_system\n",
      "\tnoaa_goes16\n",
      "\tnoaa_goes17\n",
      "\tnoaa_gsod\n",
      "\tnoaa_historic_severe_storms\n",
      "\tnoaa_hurricanes\n",
      "\tnoaa_icoads\n",
      "\tnoaa_lightning\n",
      "\tnoaa_nwm\n",
      "\tnoaa_passive_acoustic_index\n",
      "\tnoaa_passive_bioacoustic\n",
      "\tnoaa_pifsc_metadata\n",
      "\tnoaa_preliminary_severe_storms\n",
      "\tnoaa_significant_earthquakes\n",
      "\tnoaa_tsunami\n",
      "\tnppes\n",
      "\tnrel_nsrdb\n",
      "\topen_buildings\n",
      "\topen_images\n",
      "\topen_targets_genetics\n",
      "\topen_targets_platform\n",
      "\topenaq\n",
      "\tpatents\n",
      "\tpatents_cpc\n",
      "\tpatents_dsep\n",
      "\tpatents_view\n",
      "\tpersistent_udfs\n",
      "\tproperati_properties_ar\n",
      "\tproperati_properties_br\n",
      "\tproperati_properties_cl\n",
      "\tproperati_properties_co\n",
      "\tproperati_properties_mx\n",
      "\tproperati_properties_pe\n",
      "\tproperati_properties_uy\n",
      "\tpypi\n",
      "\tsamples\n",
      "\tsan_francisco\n",
      "\tsan_francisco_311\n",
      "\tsan_francisco_bikeshare\n",
      "\tsan_francisco_film_locations\n",
      "\tsan_francisco_neighborhoods\n",
      "\tsan_francisco_sffd_service_calls\n",
      "\tsan_francisco_sfpd_incidents\n",
      "\tsan_francisco_transit_muni\n",
      "\tsan_francisco_trees\n",
      "\tsdoh_bea_cainc30\n",
      "\tsdoh_cdc_wonder_natality\n",
      "\tsdoh_cms_dual_eligible_enrollment\n",
      "\tsdoh_hrsa_shortage_areas\n",
      "\tsdoh_hud_housing\n",
      "\tsdoh_hud_pit_homelessness\n",
      "\tsdoh_snap_enrollment\n",
      "\tsec_quarterly_financials\n",
      "\tstackoverflow\n",
      "\tsunroof_solar\n",
      "\tthe_general_index\n",
      "\tthe_met\n",
      "\tthelook_ecommerce\n",
      "\tucb_fung_patent_data\n",
      "\tumiami_lincs\n",
      "\tun_sdg\n",
      "\tus_res_real_est_data\n",
      "\tusa_contagious_disease\n",
      "\tusa_names\n",
      "\tusda_nass_agriculture\n",
      "\tusfs_fia\n",
      "\tusitc_investigations\n",
      "\tuspto_oce_assignment\n",
      "\tuspto_oce_cancer\n",
      "\tuspto_oce_claims\n",
      "\tuspto_oce_litigation\n",
      "\tuspto_oce_office_actions\n",
      "\tuspto_oce_pair\n",
      "\tuspto_ptab\n",
      "\tutility_eu\n",
      "\tutility_us\n",
      "\twikipedia\n",
      "\twise_all_sky_data_release\n",
      "\tworld_bank_global_population\n",
      "\tworld_bank_health_population\n",
      "\tworld_bank_intl_debt\n",
      "\tworld_bank_intl_education\n",
      "\tworld_bank_wdi\n",
      "\tworldbank_wdi\n",
      "\tworldpop\n"
     ]
    }
   ],
   "source": [
    "# list datasets in the default project:\n",
    "flag = printDatasetList(client)  #: assigning to `flag` suppresses printing the return value (normally `True`)"
   ]
  },
  {
   "cell_type": "markdown",
   "metadata": {
    "id": "81uawTW5LFZo"
   },
   "source": [
    "This list should correspond to what is shown here https://bigquery.cloud.google.com/publicdatasets under the **bigquery-public-data** item."
   ]
  },
  {
   "cell_type": "markdown",
   "metadata": {
    "id": "bEAfjVxOLFZo"
   },
   "source": [
    "Here is how to create a dataset reference object by assigning a project and a dataset name:"
   ]
  },
  {
   "cell_type": "code",
   "execution_count": 12,
   "metadata": {
    "id": "ZrSaLIkWLFZo"
   },
   "outputs": [],
   "source": [
    "dataset_id = 'samples'\n",
    "dataset_ref = client.dataset(dataset_id)"
   ]
  },
  {
   "cell_type": "markdown",
   "metadata": {
    "id": "5BlLbSA7LFZp"
   },
   "source": [
    "If our current project was something other than `bigquery-public-data`, we could still create this reference by specifying the project that contains the dataset:"
   ]
  },
  {
   "cell_type": "code",
   "execution_count": 13,
   "metadata": {
    "id": "NJK5yM9BLFZq"
   },
   "outputs": [],
   "source": [
    "dataset_id = 'samples'\n",
    "dataset_ref = client.dataset(dataset_id, project = 'bigquery-public-data')"
   ]
  },
  {
   "cell_type": "markdown",
   "metadata": {
    "id": "6_fYqMyGLFZr"
   },
   "source": [
    "How can we get the path of the dataset?"
   ]
  },
  {
   "cell_type": "code",
   "execution_count": 14,
   "metadata": {
    "id": "otqzZohpLFZs"
   },
   "outputs": [
    {
     "data": {
      "text/plain": [
       "'/projects/bigquery-public-data/datasets/samples'"
      ]
     },
     "execution_count": 14,
     "metadata": {},
     "output_type": "execute_result"
    }
   ],
   "source": [
    "#?\n",
    "dataset_ref.path"
   ]
  },
  {
   "cell_type": "markdown",
   "metadata": {
    "id": "dRzK-hTuLFZt"
   },
   "source": [
    "Explore more of this object's members:\n",
    "\n",
    "*(HINT: Jupyter Notebooks does not support code completion, but Spyder and other Python IDEs do. If you copy all the above code to a Python file within the IDE, you can type `dataset_ref.` in a new line, then hit the [Tab] key to see the available members for the object.)*"
   ]
  },
  {
   "cell_type": "code",
   "execution_count": 15,
   "metadata": {
    "id": "s9HM7PiMLFZt"
   },
   "outputs": [
    {
     "data": {
      "text/plain": [
       "TableReference(DatasetReference('bigquery-public-data', 'samples'), 'samples')"
      ]
     },
     "execution_count": 15,
     "metadata": {},
     "output_type": "execute_result"
    }
   ],
   "source": [
    "#?\n",
    "dataset_ref.table(dataset_id)"
   ]
  },
  {
   "cell_type": "markdown",
   "metadata": {
    "id": "NZB6yeerLFZu"
   },
   "source": [
    "Here is a function for listing the tables in a dataset: "
   ]
  },
  {
   "cell_type": "code",
   "execution_count": 16,
   "metadata": {
    "id": "_E5S-MhtLFZu"
   },
   "outputs": [],
   "source": [
    "# function for listing tables in a dataset:\n",
    "def printTableList(client, dataset_id):\n",
    "    project = client.project\n",
    "    dataset_ref = client.dataset(dataset_id, project = project)    \n",
    "    tables = list(client.list_tables(dataset_ref))\n",
    "    if tables:\n",
    "        print('Tables in dataset {}:'.format(dataset_id))\n",
    "        for table in tables: \n",
    "            print('\\t{}'.format(table.table_id))\n",
    "        found = True\n",
    "    else:\n",
    "        print('{} dataset does not contain any tables.'.format(dataset_id))\n",
    "        found = False\n",
    "    return found"
   ]
  },
  {
   "cell_type": "markdown",
   "metadata": {
    "id": "ksp2VbNcLFZv"
   },
   "source": [
    "Use this function to list the tables in the current dataset:"
   ]
  },
  {
   "cell_type": "code",
   "execution_count": 18,
   "metadata": {
    "id": "F2KEisFzLFZv"
   },
   "outputs": [
    {
     "name": "stdout",
     "output_type": "stream",
     "text": [
      "Tables in dataset samples:\n",
      "\tgithub_nested\n",
      "\tgithub_timeline\n",
      "\tgsod\n",
      "\tnatality\n",
      "\tshakespeare\n",
      "\ttrigrams\n",
      "\twikipedia\n"
     ]
    },
    {
     "data": {
      "text/plain": [
       "True"
      ]
     },
     "execution_count": 18,
     "metadata": {},
     "output_type": "execute_result"
    }
   ],
   "source": [
    "#?\n",
    "printTableList(client, dataset_id)"
   ]
  },
  {
   "cell_type": "markdown",
   "metadata": {
    "id": "XoZPwFx1LFZx"
   },
   "source": [
    "To create a reference to a table within the dataset, we use the `table_id` attribute:"
   ]
  },
  {
   "cell_type": "code",
   "execution_count": 19,
   "metadata": {
    "id": "rYXUHik0LFZx"
   },
   "outputs": [],
   "source": [
    "table_id = 'shakespeare'\n",
    "table_ref = dataset_ref.table(table_id)"
   ]
  },
  {
   "cell_type": "markdown",
   "metadata": {
    "id": "3MZOaAuiLFZy"
   },
   "source": [
    "Check the name of the table that `table_ref` now points to:"
   ]
  },
  {
   "cell_type": "code",
   "execution_count": 23,
   "metadata": {
    "id": "6B9AAg4tLFZz"
   },
   "outputs": [
    {
     "name": "stdout",
     "output_type": "stream",
     "text": [
      "shakespeare\n",
      "bigquery-public-data.samples.shakespeare\n"
     ]
    }
   ],
   "source": [
    "#?\n",
    "print(table_ref.table_id)\n",
    "print(table_ref)"
   ]
  },
  {
   "cell_type": "markdown",
   "metadata": {
    "id": "gOo7O5lVLFZ0"
   },
   "source": [
    "To access the data in the table itself, we use the `get_table()` method:"
   ]
  },
  {
   "cell_type": "code",
   "execution_count": 20,
   "metadata": {
    "id": "rjnXTIoULFZ0"
   },
   "outputs": [],
   "source": [
    "table = client.get_table(table_ref)  # API Request"
   ]
  },
  {
   "cell_type": "markdown",
   "metadata": {
    "id": "Ggy5pIrYLFZ2"
   },
   "source": [
    "NOTE: The contents of the table are not actually in our memory after this call! We are working with a Big Data platform, now, and we could easily end up pulling GBs or TBs of data by accident. \n",
    "\n",
    "To minimise data bandwidth, memory consumption, and processing time, Big Data platforms employ ***lazy evaluation***. This means that no computation or data transfer actually takes place until we *realise* (use) the data. Even if we execute subsequent code that performs calculations on the data, no data flow or computation actually occurs until we request output (e.g. by executing a print to stdout or writing to a file). "
   ]
  },
  {
   "cell_type": "markdown",
   "metadata": {
    "id": "5Sa9uV6tLFZ2"
   },
   "source": [
    "What kind of object is returned by `client.get_table`?"
   ]
  },
  {
   "cell_type": "code",
   "execution_count": 21,
   "metadata": {
    "id": "cdmNEp6ZLFZ3"
   },
   "outputs": [
    {
     "data": {
      "text/plain": [
       "google.cloud.bigquery.table.Table"
      ]
     },
     "execution_count": 21,
     "metadata": {},
     "output_type": "execute_result"
    }
   ],
   "source": [
    "#?\n",
    "type(table)"
   ]
  },
  {
   "cell_type": "markdown",
   "metadata": {
    "id": "rcaJMPCNLFZ4"
   },
   "source": [
    "How can we view the design of the table (column names and types? The name of the object attribute we need is the same term we learned in the module on databases:"
   ]
  },
  {
   "cell_type": "code",
   "execution_count": null,
   "metadata": {
    "id": "gt4FQZ88LFZ4"
   },
   "outputs": [],
   "source": [
    "#?\n",
    "\n"
   ]
  },
  {
   "cell_type": "markdown",
   "metadata": {
    "id": "FfaKrQRSLFZ6"
   },
   "source": [
    "Again, this is messy. If we wanted to refer to the column names and types in code, we might use something like this (which we could then parse into a dict):"
   ]
  },
  {
   "cell_type": "code",
   "execution_count": null,
   "metadata": {
    "id": "8187Fu57LFZ6"
   },
   "outputs": [],
   "source": [
    "result = [\"{0} {1}\".format(schema.name,schema.field_type) for schema in table.schema]\n",
    "print(result)"
   ]
  },
  {
   "cell_type": "markdown",
   "metadata": {
    "id": "ZQz7xhfwLFZ7"
   },
   "source": [
    "But if we just want to print them, here is another neat function for that:"
   ]
  },
  {
   "cell_type": "code",
   "execution_count": null,
   "metadata": {
    "id": "_LqvAXo3LFZ7"
   },
   "outputs": [],
   "source": [
    "# function to print a table schema:\n",
    "def printTableSchema(aTable):\n",
    "    schemas = list(aTable.schema)\n",
    "    if schemas:\n",
    "        print('Table schema for {}:'.format(aTable.table_id))\n",
    "        for aSchema in schemas:\n",
    "            print('\\t{0} {1}'.format(aSchema.name, aSchema.field_type))\n",
    "        found = True\n",
    "    else:\n",
    "        found = False\n",
    "    return found"
   ]
  },
  {
   "cell_type": "markdown",
   "metadata": {
    "id": "SROTDIm8LFZ8"
   },
   "source": [
    "Use this function to print the table schema:"
   ]
  },
  {
   "cell_type": "code",
   "execution_count": null,
   "metadata": {
    "id": "DpmWRmXmLFZ9"
   },
   "outputs": [],
   "source": [
    "#?\n"
   ]
  },
  {
   "cell_type": "markdown",
   "metadata": {
    "id": "Q1YugUUhLFZ-"
   },
   "source": [
    "Now that we know what the columns are, we can write queries. Actually, we construct a query job by assigning an SQL statement to a method of the `client` object:"
   ]
  },
  {
   "cell_type": "code",
   "execution_count": null,
   "metadata": {
    "id": "Gq7cGALfLFZ-"
   },
   "outputs": [],
   "source": [
    "sql = \"SELECT COUNT(1) FROM `bigquery-public-data.samples.shakespeare`\"\n",
    "query_job = client.query(sql)"
   ]
  },
  {
   "cell_type": "markdown",
   "metadata": {
    "id": "DJVssU3mLFZ_"
   },
   "source": [
    "Why does this throw an error?"
   ]
  },
  {
   "cell_type": "markdown",
   "metadata": {
    "id": "4feq3JaqLFZ_"
   },
   "source": [
    "ANSWER: \n",
    "\n",
    "_____________________________________________________\n",
    "\n",
    "So, what can we do?"
   ]
  },
  {
   "cell_type": "code",
   "execution_count": null,
   "metadata": {
    "id": "hCVH3AxrLFaA"
   },
   "outputs": [],
   "source": [
    "#?\n"
   ]
  },
  {
   "cell_type": "markdown",
   "metadata": {
    "id": "TTfuF8J0LFaA"
   },
   "source": [
    "If that worked, show what query_job is:"
   ]
  },
  {
   "cell_type": "code",
   "execution_count": null,
   "metadata": {
    "id": "ZmiGhS0ALFaA"
   },
   "outputs": [],
   "source": [
    "#?\n"
   ]
  },
  {
   "cell_type": "markdown",
   "metadata": {
    "id": "Src6_5auLFaB"
   },
   "source": [
    "Once again, due to lazy execution, no actual execution occurs until we request output:"
   ]
  },
  {
   "cell_type": "code",
   "execution_count": null,
   "metadata": {
    "id": "FCz4Yw9jLFaB"
   },
   "outputs": [],
   "source": [
    "for row in query_job:  # API request - fetches results\n",
    "    print(row)"
   ]
  },
  {
   "cell_type": "markdown",
   "metadata": {
    "id": "CQG3a1oALFaC"
   },
   "source": [
    "And, again, we need to manipulate this to make it neat. Each member of the rowset is a list and we only want to extract the value, which is in the first member:"
   ]
  },
  {
   "cell_type": "code",
   "execution_count": null,
   "metadata": {
    "id": "Qcq2F5vzLFaC"
   },
   "outputs": [],
   "source": [
    "print(row[0])"
   ]
  },
  {
   "cell_type": "markdown",
   "metadata": {
    "id": "cPqWb1_YLFaD"
   },
   "source": [
    "So, we now know that this table has 164,656 rows. (We would not want to print it!)"
   ]
  },
  {
   "cell_type": "markdown",
   "metadata": {
    "id": "6idZY0-3LFaD"
   },
   "source": [
    "A better coding practice is to write SQL statements that assign names (aliases) to derived values, so we don't forget what the resulting rowset contains. Rewrite the above SQL statement so that the value returned is aliased a \"num_rows\", and assign the QueryJob as above:"
   ]
  },
  {
   "cell_type": "code",
   "execution_count": null,
   "metadata": {
    "id": "NeHVJAm5LFaD"
   },
   "outputs": [],
   "source": [
    "#?\n"
   ]
  },
  {
   "cell_type": "markdown",
   "metadata": {
    "id": "XUFlZ66lLFaE"
   },
   "source": [
    "Now we could use Python's `assert` statement to build a test into the first code block that operates on the rowset:"
   ]
  },
  {
   "cell_type": "code",
   "execution_count": null,
   "metadata": {
    "id": "6MHaNZh0LFaE"
   },
   "outputs": [],
   "source": [
    "for row in query_job:  # API request - fetches results\n",
    "    # Row values can be accessed by field name or index:\n",
    "    assert row[0] == row.num_rows == row['num_rows']  #: for debugging bad sql\n",
    "    print(row.num_rows)"
   ]
  },
  {
   "cell_type": "markdown",
   "metadata": {
    "id": "fP4GpU02LFaF"
   },
   "source": [
    "The above code checks that the name attribute of the value in `row[0]` is what we expected (i.e. \"num_rows\"). Also, it shows that we can refer to a field in a row by its object member `num_rows` or by using the same notation we use for Python dictionaries, `['num_rows']`. "
   ]
  },
  {
   "cell_type": "markdown",
   "metadata": {
    "id": "y83gunLZLFaF"
   },
   "source": [
    "Write, execute, and print the results of a query that fetches 10 rows from the table, each containing the \"word\", \"word_count\", and \"corpus\" fields: "
   ]
  },
  {
   "cell_type": "code",
   "execution_count": null,
   "metadata": {
    "id": "xhvBwHzpLFaG"
   },
   "outputs": [],
   "source": [
    "#?\n",
    "\n"
   ]
  },
  {
   "cell_type": "markdown",
   "metadata": {
    "id": "OlGpm9dmLFaH"
   },
   "source": [
    "(NOTE: Using `assert` religiously is good practice and will make debugging easier, but is probably overkill for non-production code.)"
   ]
  },
  {
   "cell_type": "markdown",
   "metadata": {
    "id": "md6tWVvHLFaH"
   },
   "source": [
    "Whenever you catch yourself writing a swag of code to do something that seems rudimentary or low-level, there is a very good chance that you don't need to. A much easier way to handle the above requirement is to use the `to_dataframe` method of the QueryJob object:"
   ]
  },
  {
   "cell_type": "code",
   "execution_count": null,
   "metadata": {
    "id": "19bjagBHLFaH"
   },
   "outputs": [],
   "source": [
    "df = query_job.to_dataframe()\n",
    "print(df)    "
   ]
  },
  {
   "cell_type": "markdown",
   "metadata": {
    "id": "Qc7vdIfALFaJ"
   },
   "source": [
    "Although the above doesn't use `assert` (which you might still want to include in some test code), you will be able to tell at a glance if something is wrong with the contents of the DataFrame."
   ]
  },
  {
   "cell_type": "markdown",
   "metadata": {
    "id": "DsWSuO95LFaJ"
   },
   "source": [
    "#### Final Notes"
   ]
  },
  {
   "cell_type": "markdown",
   "metadata": {
    "id": "4mKynMuNLFaJ"
   },
   "source": [
    "1. Here is a readable way to code long SQL statements:"
   ]
  },
  {
   "cell_type": "code",
   "execution_count": null,
   "metadata": {
    "id": "8nm7i1-rLFaJ"
   },
   "outputs": [],
   "source": [
    "sql = \"\"\"\n",
    "    SELECT word, word_count, corpus \n",
    "    FROM `bigquery-public-data.samples.shakespeare` \n",
    "    LIMIT 10\n",
    "    \"\"\""
   ]
  },
  {
   "cell_type": "markdown",
   "metadata": {
    "id": "1j2w1aovLFaK"
   },
   "source": [
    "2. If you had an application that needed to modify the tables or datasets in the `bigquery-public-data` is project, you could copy them to our own project, where you would have the permissions to do as you please with the data (subject to Google's terms of use)."
   ]
  },
  {
   "cell_type": "markdown",
   "metadata": {
    "id": "mOAZyGTcLFaL"
   },
   "source": [
    "3. We aren't limited to the datasets that are already in BigQuery. We can upload tables from our computer, and we can pull data in from other online sources. We will cover these tasks in another module."
   ]
  },
  {
   "cell_type": "markdown",
   "metadata": {
    "id": "PJmK2n7vLFaL"
   },
   "source": [
    "#### Next Steps\n",
    "\n",
    "If you wish to pick up a few more skills you can go to https://cloud.google.com/bigquery/create-simple-app-api. (Note that we have already been through the preliminaries, so you can start at \"Download the sample code\".)\n",
    "\n",
    "Alternatively, you can take a deeper dive into the API here: https://googlecloudplatform.github.io/google-cloud-python/latest/bigquery/usage.html."
   ]
  },
  {
   "cell_type": "markdown",
   "metadata": {
    "id": "OFNsekmxLFaM"
   },
   "source": [
    "## - END -"
   ]
  },
  {
   "cell_type": "markdown",
   "metadata": {
    "id": "KBAJLLeXLHs8"
   },
   "source": [
    ">\n",
    ">\n"
   ]
  },
  {
   "cell_type": "markdown",
   "metadata": {
    "id": "V1AVU7q-LIuO"
   },
   "source": [
    ">\n",
    ">\n"
   ]
  },
  {
   "cell_type": "markdown",
   "metadata": {
    "id": "Fpehj_5ELJk9"
   },
   "source": [
    "\n",
    "\n",
    "---\n",
    "\n",
    "\n",
    "\n",
    "---\n",
    "\n",
    "\n",
    "\n",
    "> > > > > > > > > © 2023 Institute of Data\n",
    "\n",
    "\n",
    "---\n",
    "\n",
    "\n",
    "\n",
    "---\n",
    "\n",
    "\n",
    "\n"
   ]
  }
 ],
 "metadata": {
  "colab": {
   "collapsed_sections": [
    "PJmK2n7vLFaL"
   ],
   "provenance": []
  },
  "kernelspec": {
   "display_name": "Python 3 (ipykernel)",
   "language": "python",
   "name": "python3"
  },
  "language_info": {
   "codemirror_mode": {
    "name": "ipython",
    "version": 3
   },
   "file_extension": ".py",
   "mimetype": "text/x-python",
   "name": "python",
   "nbconvert_exporter": "python",
   "pygments_lexer": "ipython3",
   "version": "3.11.4"
  }
 },
 "nbformat": 4,
 "nbformat_minor": 4
}

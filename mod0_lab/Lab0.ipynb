{
 "cells": [
  {
   "cell_type": "markdown",
   "id": "oBcJci-AuNS4",
   "metadata": {
    "id": "oBcJci-AuNS4"
   },
   "source": [
    "<div>\n",
    "<img src=https://www.institutedata.com/wp-content/uploads/2019/10/iod_h_tp_primary_c.svg width=\"300\">\n",
    "</div>"
   ]
  },
  {
   "cell_type": "markdown",
   "id": "37d30622",
   "metadata": {
    "id": "37d30622"
   },
   "source": [
    "# Welcome to the Institute of Data!"
   ]
  },
  {
   "cell_type": "markdown",
   "id": "2dc6f4b5",
   "metadata": {
    "id": "2dc6f4b5"
   },
   "source": [
    "The following questions are NOT designed to be completed by everyone here.\n",
    "\n",
    "This is just to a diagnostic quiz to see where you are at. \n",
    "\n",
    "Have fun with them!"
   ]
  },
  {
   "cell_type": "markdown",
   "id": "90deb090",
   "metadata": {
    "id": "90deb090"
   },
   "source": [
    "## Exercise 1: \n",
    "\n",
    "Print out an interesting fact about you!\n",
    "For example: 'My favorite song right now is ____'"
   ]
  },
  {
   "cell_type": "code",
   "execution_count": 13,
   "id": "716be261",
   "metadata": {
    "id": "716be261"
   },
   "outputs": [
    {
     "name": "stdout",
     "output_type": "stream",
     "text": [
      "Hello World\n"
     ]
    }
   ],
   "source": [
    "# Code your answer below...\n",
    "print(\"Hello World\")"
   ]
  },
  {
   "cell_type": "markdown",
   "id": "ea47d1a6",
   "metadata": {
    "id": "ea47d1a6"
   },
   "source": [
    "## Exercise 2: "
   ]
  },
  {
   "cell_type": "markdown",
   "id": "b2a097de",
   "metadata": {
    "id": "b2a097de"
   },
   "source": [
    "Return the answer to the following: \n",
    "\n",
    "What is 271,097 divided by 2300?"
   ]
  },
  {
   "cell_type": "code",
   "execution_count": 14,
   "id": "9578a2c6",
   "metadata": {
    "id": "9578a2c6"
   },
   "outputs": [
    {
     "data": {
      "text/plain": [
       "117.86826086956522"
      ]
     },
     "execution_count": 14,
     "metadata": {},
     "output_type": "execute_result"
    }
   ],
   "source": [
    "# Code your answer below...\n",
    "271097/2300"
   ]
  },
  {
   "cell_type": "markdown",
   "id": "acf38607",
   "metadata": {
    "id": "acf38607"
   },
   "source": [
    "## Exercise 3: "
   ]
  },
  {
   "cell_type": "markdown",
   "id": "8333e1aa",
   "metadata": {
    "id": "8333e1aa"
   },
   "source": [
    "Print the sum of the following list:"
   ]
  },
  {
   "cell_type": "code",
   "execution_count": 15,
   "id": "696701d3",
   "metadata": {
    "id": "696701d3"
   },
   "outputs": [
    {
     "name": "stdout",
     "output_type": "stream",
     "text": [
      "43\n"
     ]
    }
   ],
   "source": [
    "# Initialize List\n",
    "new_list = [1,3,5,7,9,18]\n",
    "\n",
    "# Code your answer below...\n",
    "print(sum(new_list))"
   ]
  },
  {
   "cell_type": "markdown",
   "id": "5b4c6de1",
   "metadata": {
    "id": "5b4c6de1"
   },
   "source": [
    "## Exercise 4: \n",
    "\n",
    "Return the sum, minimum and maximum of the following list:"
   ]
  },
  {
   "cell_type": "code",
   "execution_count": 2,
   "id": "2e12b14d",
   "metadata": {
    "id": "2e12b14d"
   },
   "outputs": [
    {
     "name": "stdout",
     "output_type": "stream",
     "text": [
      "151\n",
      "4\n"
     ]
    }
   ],
   "source": [
    "# Initialize List\n",
    "new_list1 = [7,23,117,4]\n",
    "\n",
    "# Code your answer below...\n",
    "print(sum(new_list1))\n",
    "print(min(new_list1))\n",
    "# print(max(new_list1))"
   ]
  },
  {
   "cell_type": "markdown",
   "id": "3422e1d9",
   "metadata": {
    "id": "3422e1d9"
   },
   "source": [
    "## Exercise 5:\n",
    "\n",
    "Create a function which takes two numbers, and returns the product."
   ]
  },
  {
   "cell_type": "code",
   "execution_count": 5,
   "id": "df46f521",
   "metadata": {
    "id": "df46f521"
   },
   "outputs": [],
   "source": [
    "# Code your answer below...\n",
    "def product(a, b):\n",
    "    return (a*b)"
   ]
  },
  {
   "cell_type": "code",
   "execution_count": 6,
   "id": "41770605",
   "metadata": {
    "id": "41770605"
   },
   "outputs": [
    {
     "name": "stdout",
     "output_type": "stream",
     "text": [
      "161\n"
     ]
    }
   ],
   "source": [
    "# Test your function here\n",
    "# Return the product of 23 and 7\n",
    "print(product(23,7))"
   ]
  },
  {
   "cell_type": "markdown",
   "id": "d21599da",
   "metadata": {
    "id": "d21599da"
   },
   "source": [
    "## Exercise 6:\n",
    "\n",
    "Create a function which takes in two numbers (a and b) and returns the amount of numbers below a which are divisible by b."
   ]
  },
  {
   "cell_type": "code",
   "execution_count": 7,
   "id": "b53eb200",
   "metadata": {
    "id": "b53eb200"
   },
   "outputs": [],
   "source": [
    "# Code your answer below...\n",
    "\n",
    "def divisible(a, b):\n",
    "    count = 0\n",
    "    for num in range(a):\n",
    "        if num % b == 0:\n",
    "            count += 1\n",
    "        else:\n",
    "            pass\n",
    "    return(count)\n"
   ]
  },
  {
   "cell_type": "code",
   "execution_count": 8,
   "id": "24e84eb2",
   "metadata": {
    "id": "24e84eb2"
   },
   "outputs": [
    {
     "data": {
      "text/plain": [
       "34"
      ]
     },
     "execution_count": 8,
     "metadata": {},
     "output_type": "execute_result"
    }
   ],
   "source": [
    "# Test your function here\n",
    "# Return the number of numbers below 100 which are divisible by 3:\n",
    "divisible(100,3)"
   ]
  },
  {
   "cell_type": "markdown",
   "id": "6mf18q9butFG",
   "metadata": {
    "id": "6mf18q9butFG"
   },
   "source": [
    "\n",
    "\n",
    "---\n",
    "\n",
    "\n",
    "\n",
    "---\n",
    "\n",
    "\n",
    "\n",
    "> > > > > > > > > © 2023 Institute of Data\n",
    "\n",
    "\n",
    "---\n",
    "\n",
    "\n",
    "\n",
    "---\n",
    "\n",
    "\n",
    "\n"
   ]
  }
 ],
 "metadata": {
  "colab": {
   "provenance": []
  },
  "kernelspec": {
   "display_name": "Python 3 (ipykernel)",
   "language": "python",
   "name": "python3"
  },
  "language_info": {
   "codemirror_mode": {
    "name": "ipython",
    "version": 3
   },
   "file_extension": ".py",
   "mimetype": "text/x-python",
   "name": "python",
   "nbconvert_exporter": "python",
   "pygments_lexer": "ipython3",
   "version": "3.11.4"
  }
 },
 "nbformat": 4,
 "nbformat_minor": 5
}

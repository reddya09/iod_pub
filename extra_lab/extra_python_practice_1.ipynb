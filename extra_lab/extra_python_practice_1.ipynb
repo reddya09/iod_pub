{
 "cells": [
  {
   "cell_type": "markdown",
   "id": "43829575-7890-43fe-9ce0-b42576193cd7",
   "metadata": {},
   "source": [
    "## Extra Python Practice 1"
   ]
  },
  {
   "cell_type": "code",
   "execution_count": 6,
   "id": "96c4a11f-5ee9-4ee8-aa86-6b296049e12e",
   "metadata": {},
   "outputs": [],
   "source": [
    "import random"
   ]
  },
  {
   "cell_type": "markdown",
   "id": "4cf48ca4-ead5-4af0-8b1f-a277bb3f4ff5",
   "metadata": {},
   "source": [
    "#### 1. Odd or Even\n",
    "\n",
    "Ask the user for a number. Depending on whether the number is even or odd, print out an appropriate message to the user. "
   ]
  },
  {
   "cell_type": "code",
   "execution_count": 1,
   "id": "95f18af9-74ef-44a9-9eaf-514071718b75",
   "metadata": {},
   "outputs": [],
   "source": [
    "#Answer:"
   ]
  },
  {
   "cell_type": "markdown",
   "id": "0b6535f9-f3b9-41d9-873a-7e87e7089a9b",
   "metadata": {},
   "source": [
    "**Extra**:\n",
    " 1. If the number is a multiple of 4, print out a different message.\n",
    " 2. Ask the user for two numbers: one number to check (call it num) and one number to divide by (check). If check divides evenly into num, tell that to the user. If not, print a different appropriate message."
   ]
  },
  {
   "cell_type": "markdown",
   "id": "f249deb0-db9c-460c-a9ef-93e78fda963a",
   "metadata": {},
   "source": [
    "</br>\n",
    "\n",
    "#### 2. Max of Three\n",
    "\n",
    "Implement a function that takes as input three variables, and returns the largest of the three. Do this without using the Python `max()` function!"
   ]
  },
  {
   "cell_type": "code",
   "execution_count": 2,
   "id": "ebc859d2-32ce-4f64-a187-e345bcff6431",
   "metadata": {},
   "outputs": [],
   "source": [
    "#Answer:"
   ]
  },
  {
   "cell_type": "markdown",
   "id": "9b383638-88ef-457e-a1d1-3504e0fb0e58",
   "metadata": {},
   "source": [
    "</br>\n",
    "\n",
    "#### 3. Fibonacci Sequence\n",
    "\n",
    "Ask the user to enter a number and generate the Fibonacci sequence up to that specified number of terms."
   ]
  },
  {
   "cell_type": "code",
   "execution_count": 3,
   "id": "e15c9728-ba2c-4968-b111-5de99de806b2",
   "metadata": {},
   "outputs": [],
   "source": [
    "#Answer:"
   ]
  },
  {
   "cell_type": "markdown",
   "id": "cbc52d58-3c9b-416c-a5da-c68b8b8148b8",
   "metadata": {},
   "source": [
    "</br>\n",
    "\n",
    "#### 4. Reverse a String\n",
    "\n",
    "Ask the user for a string and write a function to reverse the string.</br>\n",
    "**Example Input**: pizza </br>\n",
    "**Example Output**: azzip"
   ]
  },
  {
   "cell_type": "code",
   "execution_count": 4,
   "id": "45242c8b-d7ad-4d06-8be0-b80a91e3d3cb",
   "metadata": {},
   "outputs": [],
   "source": [
    "#Answer:"
   ]
  },
  {
   "cell_type": "markdown",
   "id": "2b9ad64e-79cc-4ee7-ac62-5a4200b7b019",
   "metadata": {},
   "source": [
    "</br>\n",
    "\n",
    "#### 5. Count Characters\n",
    "\n",
    "Write a program that counts the occurrences of each character in a string. </br>\n",
    "**Example Input**: burger </br>\n",
    "**Example Output**: </br>\n",
    "'b': 1 </br>\n",
    "'u': 1 </br>\n",
    "'r': 2 </br>\n",
    "'g': 1 </br>\n",
    "'e': 1"
   ]
  },
  {
   "cell_type": "code",
   "execution_count": 5,
   "id": "1534ffbc-02f8-4554-9967-c3c3fd952dcc",
   "metadata": {},
   "outputs": [],
   "source": [
    "#Answer:"
   ]
  },
  {
   "cell_type": "markdown",
   "id": "57331de8-28e8-4b73-bb05-a30d360912fb",
   "metadata": {},
   "source": [
    "</br>\n",
    "\n",
    "#### 6. Guess the Number\n",
    "\n",
    "Write a program where a user tries to guess a randomly generated number.\n",
    " - prints whether the guess is too low or too high and user has another guess\n",
    " - once the user guesses the number print out how many guesses it took"
   ]
  },
  {
   "cell_type": "code",
   "execution_count": 7,
   "id": "b8fc699e-6f94-48b6-bd45-2167dfc0427d",
   "metadata": {},
   "outputs": [],
   "source": [
    "#Answer:"
   ]
  },
  {
   "cell_type": "code",
   "execution_count": null,
   "id": "a7cac576-e3fe-4ef2-b7e7-db6495c25738",
   "metadata": {},
   "outputs": [],
   "source": []
  }
 ],
 "metadata": {
  "kernelspec": {
   "display_name": "Python 3 (ipykernel)",
   "language": "python",
   "name": "python3"
  },
  "language_info": {
   "codemirror_mode": {
    "name": "ipython",
    "version": 3
   },
   "file_extension": ".py",
   "mimetype": "text/x-python",
   "name": "python",
   "nbconvert_exporter": "python",
   "pygments_lexer": "ipython3",
   "version": "3.10.8"
  }
 },
 "nbformat": 4,
 "nbformat_minor": 5
}
